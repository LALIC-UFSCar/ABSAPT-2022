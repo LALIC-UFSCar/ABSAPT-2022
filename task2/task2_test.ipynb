{
  "cells": [
    {
      "cell_type": "markdown",
      "metadata": {
        "id": "el-5igpzBaRE"
      },
      "source": [
        "# Importing Libraries"
      ]
    },
    {
      "cell_type": "code",
      "execution_count": null,
      "metadata": {
        "id": "5OsqcqyUg4_G"
      },
      "outputs": [],
      "source": [
        "!pip install --upgrade spacy\n",
        "!python -m spacy download pt_core_news_lg"
      ]
    },
    {
      "cell_type": "code",
      "execution_count": null,
      "metadata": {
        "id": "mmXKDLK3_zAb"
      },
      "outputs": [],
      "source": [
        "!pip install transformers"
      ]
    },
    {
      "cell_type": "code",
      "execution_count": 3,
      "metadata": {
        "id": "UlKXvjUg-0G2"
      },
      "outputs": [],
      "source": [
        "from google.colab import drive\n",
        "from transformers import BertTokenizer, BertForSequenceClassification, pipeline\n",
        "import collections\n",
        "import pandas as pd\n",
        "from sklearn.metrics import precision_score, \\\n",
        "    recall_score, confusion_matrix, classification_report, \\\n",
        "    accuracy_score, f1_score, balanced_accuracy_score\n",
        "from ast import literal_eval\n",
        "import spacy"
      ]
    },
    {
      "cell_type": "code",
      "execution_count": 4,
      "metadata": {
        "id": "J11pYuVthcKw"
      },
      "outputs": [],
      "source": [
        "nlp = spacy.load(\"pt_core_news_lg\")"
      ]
    },
    {
      "cell_type": "code",
      "execution_count": 5,
      "metadata": {
        "id": "nSUR2qDIA-3Y",
        "colab": {
          "base_uri": "https://localhost:8080/"
        },
        "outputId": "c5f4fcfe-71a9-4702-ea11-7684557a245d"
      },
      "outputs": [
        {
          "output_type": "stream",
          "name": "stdout",
          "text": [
            "Mounted at /content/drive\n"
          ]
        }
      ],
      "source": [
        "drive.mount('/content/drive')"
      ]
    },
    {
      "cell_type": "markdown",
      "metadata": {
        "id": "xtOSYj2BWOal"
      },
      "source": [
        "# Importing Dataset"
      ]
    },
    {
      "cell_type": "code",
      "execution_count": 6,
      "metadata": {
        "id": "46iW_AsIAuAO",
        "colab": {
          "base_uri": "https://localhost:8080/"
        },
        "outputId": "36fa62e6-9adb-41be-8297-a8c1125d5b14"
      },
      "outputs": [
        {
          "output_type": "stream",
          "name": "stdout",
          "text": [
            "/usr/local/lib/python3.7/dist-packages/gdown/cli.py:131: FutureWarning: Option `--id` was deprecated in version 4.3.1 and will be removed in 5.0. You don't need to pass it anymore to use a file ID.\n",
            "  category=FutureWarning,\n",
            "Downloading...\n",
            "From: https://drive.google.com/uc?id=1bjo9wqZpGiOanuB6MLDaCEkZ1VPXJMC1\n",
            "To: /content/test_task2.csv\n",
            "100% 302k/302k [00:00<00:00, 46.5MB/s]\n"
          ]
        }
      ],
      "source": [
        "!gdown --id 1bjo9wqZpGiOanuB6MLDaCEkZ1VPXJMC1"
      ]
    },
    {
      "cell_type": "code",
      "execution_count": 7,
      "metadata": {
        "id": "It8qxOS2WRmQ",
        "colab": {
          "base_uri": "https://localhost:8080/",
          "height": 206
        },
        "outputId": "53c64e9c-9db8-4777-dde7-90d2dca03cde"
      },
      "outputs": [
        {
          "output_type": "execute_result",
          "data": {
            "text/plain": [
              "   id                                             review         aspect  \\\n",
              "0   0  Um hotel bem agradável, limpo, hospitaleiro e ...    localização   \n",
              "1   1  Um hotel bem agradável, limpo, hospitaleiro e ...  café da manhã   \n",
              "2   2  Um hotel bem agradável, limpo, hospitaleiro e ...          hotel   \n",
              "3   3  Um hotel bem agradável, limpo, hospitaleiro e ...         quarto   \n",
              "4   4  Eu realmente não aconselho esse lugar, tudo é ...    atendimento   \n",
              "\n",
              "   start_position  end_position  \n",
              "0             301           312  \n",
              "1             226           239  \n",
              "2               3             8  \n",
              "3              86            92  \n",
              "4              57            68  "
            ],
            "text/html": [
              "\n",
              "  <div id=\"df-51451141-68b7-40bb-a0e5-7b581f9e444d\">\n",
              "    <div class=\"colab-df-container\">\n",
              "      <div>\n",
              "<style scoped>\n",
              "    .dataframe tbody tr th:only-of-type {\n",
              "        vertical-align: middle;\n",
              "    }\n",
              "\n",
              "    .dataframe tbody tr th {\n",
              "        vertical-align: top;\n",
              "    }\n",
              "\n",
              "    .dataframe thead th {\n",
              "        text-align: right;\n",
              "    }\n",
              "</style>\n",
              "<table border=\"1\" class=\"dataframe\">\n",
              "  <thead>\n",
              "    <tr style=\"text-align: right;\">\n",
              "      <th></th>\n",
              "      <th>id</th>\n",
              "      <th>review</th>\n",
              "      <th>aspect</th>\n",
              "      <th>start_position</th>\n",
              "      <th>end_position</th>\n",
              "    </tr>\n",
              "  </thead>\n",
              "  <tbody>\n",
              "    <tr>\n",
              "      <th>0</th>\n",
              "      <td>0</td>\n",
              "      <td>Um hotel bem agradável, limpo, hospitaleiro e ...</td>\n",
              "      <td>localização</td>\n",
              "      <td>301</td>\n",
              "      <td>312</td>\n",
              "    </tr>\n",
              "    <tr>\n",
              "      <th>1</th>\n",
              "      <td>1</td>\n",
              "      <td>Um hotel bem agradável, limpo, hospitaleiro e ...</td>\n",
              "      <td>café da manhã</td>\n",
              "      <td>226</td>\n",
              "      <td>239</td>\n",
              "    </tr>\n",
              "    <tr>\n",
              "      <th>2</th>\n",
              "      <td>2</td>\n",
              "      <td>Um hotel bem agradável, limpo, hospitaleiro e ...</td>\n",
              "      <td>hotel</td>\n",
              "      <td>3</td>\n",
              "      <td>8</td>\n",
              "    </tr>\n",
              "    <tr>\n",
              "      <th>3</th>\n",
              "      <td>3</td>\n",
              "      <td>Um hotel bem agradável, limpo, hospitaleiro e ...</td>\n",
              "      <td>quarto</td>\n",
              "      <td>86</td>\n",
              "      <td>92</td>\n",
              "    </tr>\n",
              "    <tr>\n",
              "      <th>4</th>\n",
              "      <td>4</td>\n",
              "      <td>Eu realmente não aconselho esse lugar, tudo é ...</td>\n",
              "      <td>atendimento</td>\n",
              "      <td>57</td>\n",
              "      <td>68</td>\n",
              "    </tr>\n",
              "  </tbody>\n",
              "</table>\n",
              "</div>\n",
              "      <button class=\"colab-df-convert\" onclick=\"convertToInteractive('df-51451141-68b7-40bb-a0e5-7b581f9e444d')\"\n",
              "              title=\"Convert this dataframe to an interactive table.\"\n",
              "              style=\"display:none;\">\n",
              "        \n",
              "  <svg xmlns=\"http://www.w3.org/2000/svg\" height=\"24px\"viewBox=\"0 0 24 24\"\n",
              "       width=\"24px\">\n",
              "    <path d=\"M0 0h24v24H0V0z\" fill=\"none\"/>\n",
              "    <path d=\"M18.56 5.44l.94 2.06.94-2.06 2.06-.94-2.06-.94-.94-2.06-.94 2.06-2.06.94zm-11 1L8.5 8.5l.94-2.06 2.06-.94-2.06-.94L8.5 2.5l-.94 2.06-2.06.94zm10 10l.94 2.06.94-2.06 2.06-.94-2.06-.94-.94-2.06-.94 2.06-2.06.94z\"/><path d=\"M17.41 7.96l-1.37-1.37c-.4-.4-.92-.59-1.43-.59-.52 0-1.04.2-1.43.59L10.3 9.45l-7.72 7.72c-.78.78-.78 2.05 0 2.83L4 21.41c.39.39.9.59 1.41.59.51 0 1.02-.2 1.41-.59l7.78-7.78 2.81-2.81c.8-.78.8-2.07 0-2.86zM5.41 20L4 18.59l7.72-7.72 1.47 1.35L5.41 20z\"/>\n",
              "  </svg>\n",
              "      </button>\n",
              "      \n",
              "  <style>\n",
              "    .colab-df-container {\n",
              "      display:flex;\n",
              "      flex-wrap:wrap;\n",
              "      gap: 12px;\n",
              "    }\n",
              "\n",
              "    .colab-df-convert {\n",
              "      background-color: #E8F0FE;\n",
              "      border: none;\n",
              "      border-radius: 50%;\n",
              "      cursor: pointer;\n",
              "      display: none;\n",
              "      fill: #1967D2;\n",
              "      height: 32px;\n",
              "      padding: 0 0 0 0;\n",
              "      width: 32px;\n",
              "    }\n",
              "\n",
              "    .colab-df-convert:hover {\n",
              "      background-color: #E2EBFA;\n",
              "      box-shadow: 0px 1px 2px rgba(60, 64, 67, 0.3), 0px 1px 3px 1px rgba(60, 64, 67, 0.15);\n",
              "      fill: #174EA6;\n",
              "    }\n",
              "\n",
              "    [theme=dark] .colab-df-convert {\n",
              "      background-color: #3B4455;\n",
              "      fill: #D2E3FC;\n",
              "    }\n",
              "\n",
              "    [theme=dark] .colab-df-convert:hover {\n",
              "      background-color: #434B5C;\n",
              "      box-shadow: 0px 1px 3px 1px rgba(0, 0, 0, 0.15);\n",
              "      filter: drop-shadow(0px 1px 2px rgba(0, 0, 0, 0.3));\n",
              "      fill: #FFFFFF;\n",
              "    }\n",
              "  </style>\n",
              "\n",
              "      <script>\n",
              "        const buttonEl =\n",
              "          document.querySelector('#df-51451141-68b7-40bb-a0e5-7b581f9e444d button.colab-df-convert');\n",
              "        buttonEl.style.display =\n",
              "          google.colab.kernel.accessAllowed ? 'block' : 'none';\n",
              "\n",
              "        async function convertToInteractive(key) {\n",
              "          const element = document.querySelector('#df-51451141-68b7-40bb-a0e5-7b581f9e444d');\n",
              "          const dataTable =\n",
              "            await google.colab.kernel.invokeFunction('convertToInteractive',\n",
              "                                                     [key], {});\n",
              "          if (!dataTable) return;\n",
              "\n",
              "          const docLinkHtml = 'Like what you see? Visit the ' +\n",
              "            '<a target=\"_blank\" href=https://colab.research.google.com/notebooks/data_table.ipynb>data table notebook</a>'\n",
              "            + ' to learn more about interactive tables.';\n",
              "          element.innerHTML = '';\n",
              "          dataTable['output_type'] = 'display_data';\n",
              "          await google.colab.output.renderOutput(dataTable, element);\n",
              "          const docLink = document.createElement('div');\n",
              "          docLink.innerHTML = docLinkHtml;\n",
              "          element.appendChild(docLink);\n",
              "        }\n",
              "      </script>\n",
              "    </div>\n",
              "  </div>\n",
              "  "
            ]
          },
          "metadata": {},
          "execution_count": 7
        }
      ],
      "source": [
        "df = pd.read_csv('/content/test_task2.csv', sep=';')\n",
        "df.head()"
      ]
    },
    {
      "cell_type": "markdown",
      "metadata": {
        "id": "4mQf_2qXW79Y"
      },
      "source": [
        "# GoEmotions"
      ]
    },
    {
      "cell_type": "code",
      "execution_count": 8,
      "metadata": {
        "id": "apRPnRrcRzh2",
        "colab": {
          "base_uri": "https://localhost:8080/"
        },
        "outputId": "63e23eea-f733-48c1-9761-4a5c01e6d896"
      },
      "outputs": [
        {
          "output_type": "stream",
          "name": "stderr",
          "text": [
            "/usr/local/lib/python3.7/dist-packages/transformers/pipelines/text_classification.py:90: UserWarning: `return_all_scores` is now deprecated, use `top_k=1` if you want similar functionnality\n",
            "  \"`return_all_scores` is now deprecated, use `top_k=1` if you want similar functionnality\", UserWarning\n"
          ]
        }
      ],
      "source": [
        "#Folder path containing the fine-tuned model files\n",
        "model_path = '/content/drive/MyDrive/IC/Inferencia_carga_afetiva/GoEmotions_portuguese-main/fine_tunel_model'\n",
        "model = BertForSequenceClassification.from_pretrained(model_path)\n",
        "tokenizer = BertTokenizer.from_pretrained(model_path)\n",
        "classifier = pipeline('text-classification', model=model, tokenizer=tokenizer, return_all_scores=True)"
      ]
    },
    {
      "cell_type": "code",
      "source": [
        "def goEmotionsInference(file_name, texts, infer=False):\n",
        "  if infer:\n",
        "    output = classifier(texts)\n",
        "    out_all = str(output)\n",
        "    with open('/content/drive/MyDrive/Shared Task - ABSAPT 2022/go_emotions_output/' + file_name, 'w') as f:\n",
        "      f.write(out_all)\n",
        "  with open('/content/drive/MyDrive/Shared Task - ABSAPT 2022/go_emotions_output/' + file_name) as f:\n",
        "    out_task2_train = f.read()\n",
        "    out_task2_train = literal_eval(out_task2_train)\n",
        "  return out_task2_train"
      ],
      "metadata": {
        "id": "XVonvozs1m5H"
      },
      "execution_count": 9,
      "outputs": []
    },
    {
      "cell_type": "code",
      "source": [
        "# Get the df with the top n predictions\n",
        "\n",
        "def get_predictions(output):\n",
        "  predictions = {}\n",
        "  for id, l in enumerate(output):\n",
        "    predictions[id] = {}\n",
        "    for prediction in l:\n",
        "      predictions[id][prediction['label']] = prediction['score']\n",
        "  return predictions\n",
        "\n",
        "def sort_dic(dic):\n",
        "  sorted_dic = {}\n",
        "  for i in sorted(dic, key=dic.get, reverse=True):\n",
        "    sorted_dic[i] = dic[i]\n",
        "  return {i: sorted_dic[i] for i in list(sorted_dic)}\n",
        "\n",
        "def top_n_predictions(predictions, n):\n",
        "  top_n = {}\n",
        "  for id in predictions:\n",
        "    sorted_dic = sort_dic(predictions[id])\n",
        "    aux_dic = {}\n",
        "    for i, key in enumerate(sorted_dic):\n",
        "      if i < n:\n",
        "        aux_dic[key] = predictions[id][key]\n",
        "      top_n[id] = aux_dic\n",
        "  return top_n\n",
        "\n",
        "def get_result(top_n, df, sentences):\n",
        "  dic_result = dict(df)\n",
        "  dic_result['sentence'] = []\n",
        "  for id in top_n:\n",
        "    dic_result['sentence'].append(sentences[id])\n",
        "    keys = list(top_n[id].keys())\n",
        "    for i, key in enumerate(keys):\n",
        "      n_prediction = 'prediction ' + str(i+1)\n",
        "      n_score = 'score ' + str(i+1)\n",
        "      if n_prediction not in dic_result.keys():\n",
        "        dic_result[n_prediction] = []\n",
        "        dic_result[n_score] = [] \n",
        "      dic_result[n_prediction].append(keys[i])\n",
        "      dic_result[n_score].append(top_n[id][keys[i]])\n",
        "  return dic_result\n",
        "\n",
        "def get_df(df, output, n, sentences):\n",
        "  predictions = get_predictions(output)\n",
        "  top_n = top_n_predictions(predictions, n)\n",
        "  dic_result = get_result(top_n, df, sentences)\n",
        "  df_result = pd.DataFrame(data=dic_result)\n",
        "  return df_result"
      ],
      "metadata": {
        "id": "XGqDmnmENACO"
      },
      "execution_count": 10,
      "outputs": []
    },
    {
      "cell_type": "code",
      "source": [
        "mapping = {\"admiração\": 1,\n",
        "            \"diversão\": 1,\n",
        "            \"raiva\": -1,\n",
        "            \"aborrecimento\": -1,\n",
        "            \"aprovação\": 1,\n",
        "            \"zelo\": 1,\n",
        "            \"confusão\": -1,\n",
        "            \"curiosidade\": 1,\n",
        "            \"desejo\": 1,\n",
        "            \"decepção\": -1,\n",
        "            \"desaprovação\": -1,\n",
        "            \"nojo\": -1,\n",
        "            \"constrangimento\": -1,\n",
        "            \"entusiasmo\": 1,\n",
        "            \"medo\": -1,\n",
        "            \"gratidão\": 1,\n",
        "            \"luto\": -1,\n",
        "            \"alegria\": 1,\n",
        "            \"amor\": 1,\n",
        "            \"nervosismo\": -1,\n",
        "            \"otimismo\": 1,\n",
        "            \"orgulho\": 1,\n",
        "            \"percepção\": 0,\n",
        "            \"alívio\": 1,\n",
        "            \"remorso\": -1,\n",
        "            \"tristeza\": -1,\n",
        "            \"surpresa\": 1,\n",
        "            \"neutro\": 0\n",
        "}"
      ],
      "metadata": {
        "id": "I-PoaGOPe0NY"
      },
      "execution_count": 11,
      "outputs": []
    },
    {
      "cell_type": "code",
      "source": [
        "def map_goEmotions(n, df):\n",
        "  for i in range(n):\n",
        "    df['prediction ' + str(i+1)] = df['prediction ' + str(i+1)].map(mapping)\n",
        "  return df"
      ],
      "metadata": {
        "id": "f0-O5LGi5Hrv"
      },
      "execution_count": 12,
      "outputs": []
    },
    {
      "cell_type": "code",
      "source": [
        "def annull_obl(predictions, obl):\n",
        "  for index in obl:\n",
        "    if index < len(predictions):\n",
        "      predictions[index] = 0\n",
        "  return predictions"
      ],
      "metadata": {
        "id": "veVb4fy1xCiR"
      },
      "execution_count": 13,
      "outputs": []
    },
    {
      "cell_type": "markdown",
      "source": [
        "## Meaningful Surroundings"
      ],
      "metadata": {
        "id": "rdzrkaaPfrvM"
      }
    },
    {
      "cell_type": "code",
      "source": [
        "def get_surroundings(index, review):\n",
        "  doc = nlp(review)\n",
        "  for token in doc:\n",
        "    surroundings = [' ']\n",
        "    if token.idx == index:\n",
        "      surroundings = {}\n",
        "      surroundings[token.idx] = token.text\n",
        "      surroundings[token.head.idx] = token.head.text\n",
        "      for child in token.children:\n",
        "        surroundings[child.idx] = child.text\n",
        "        for c in child.children:\n",
        "          surroundings[c.idx] = c.text\n",
        "      for child in token.head.children:\n",
        "        surroundings[child.idx] = child.text\n",
        "        for c in child.children:\n",
        "          surroundings[c.idx] = c.text\n",
        "      surroundings = dict(sorted(surroundings.items()))\n",
        "      s = [surroundings[i] for i in surroundings]\n",
        "      return ' '.join(s)\n",
        "  return ' '.join(surroundings)"
      ],
      "metadata": {
        "id": "mRDxzuRnWCYu"
      },
      "execution_count": 14,
      "outputs": []
    },
    {
      "cell_type": "code",
      "source": [
        "aspect_surroundings = []\n",
        "for i in df.iloc():\n",
        "    aspect_surroundings.append(get_surroundings(i['start_position'], i['review']))"
      ],
      "metadata": {
        "id": "Y3awRRzptFlc"
      },
      "execution_count": 15,
      "outputs": []
    },
    {
      "cell_type": "code",
      "source": [
        "obl_index = []\n",
        "for index, i in enumerate(df.iloc()):\n",
        "  doc = nlp(i['review'])\n",
        "  for token in doc:\n",
        "    if token.idx == i['start_position'] and token.dep_ == 'obl':\n",
        "        obl_index.append(index)"
      ],
      "metadata": {
        "id": "7vvgpxehR2Us"
      },
      "execution_count": 16,
      "outputs": []
    },
    {
      "cell_type": "code",
      "source": [
        "out_task2_test = goEmotionsInference('out_task2_test', aspect_surroundings, True)"
      ],
      "metadata": {
        "id": "kaVuG9HOuZGp"
      },
      "execution_count": 17,
      "outputs": []
    },
    {
      "cell_type": "code",
      "source": [
        "n = 3\n",
        "df_top3_s = get_df(df, out_task2_test, n, aspect_surroundings)\n",
        "df_top3_s.head()"
      ],
      "metadata": {
        "id": "pwR8jmMLuPPO",
        "colab": {
          "base_uri": "https://localhost:8080/",
          "height": 354
        },
        "outputId": "ca1dc9cb-9f69-46cc-a2ac-350cafc9a20b"
      },
      "execution_count": 18,
      "outputs": [
        {
          "output_type": "execute_result",
          "data": {
            "text/plain": [
              "   id                                             review         aspect  \\\n",
              "0   0  Um hotel bem agradável, limpo, hospitaleiro e ...    localização   \n",
              "1   1  Um hotel bem agradável, limpo, hospitaleiro e ...  café da manhã   \n",
              "2   2  Um hotel bem agradável, limpo, hospitaleiro e ...          hotel   \n",
              "3   3  Um hotel bem agradável, limpo, hospitaleiro e ...         quarto   \n",
              "4   4  Eu realmente não aconselho esse lugar, tudo é ...    atendimento   \n",
              "\n",
              "   start_position  end_position  \\\n",
              "0             301           312   \n",
              "1             226           239   \n",
              "2               3             8   \n",
              "3              86            92   \n",
              "4              57            68   \n",
              "\n",
              "                                            sentence  prediction 1   score 1  \\\n",
              "0                    O ponto forte é a localização .     admiração  0.493106   \n",
              "1      O café da manhã é bom , mas simples mesmo .       admiração  0.906012   \n",
              "2  Um hotel bem agradável limpo hospitaleiro loca...     admiração  0.960308   \n",
              "3  O quarto era pequeno mas bastante limpo , bem ...     admiração  0.665469   \n",
              "4  Eu realmente não aconselho esse lugar , tudo é...  desaprovação  0.328608   \n",
              "\n",
              "  prediction 2   score 2 prediction 3   score 3  \n",
              "0       neutro  0.283013    aprovação  0.157170  \n",
              "1    aprovação  0.049788       neutro  0.015803  \n",
              "2    aprovação  0.014327       neutro  0.006338  \n",
              "3       neutro  0.154558    aprovação  0.115362  \n",
              "4         nojo  0.168453     decepção  0.101558  "
            ],
            "text/html": [
              "\n",
              "  <div id=\"df-b72a9eee-7425-422c-bf83-d4bef53ac798\">\n",
              "    <div class=\"colab-df-container\">\n",
              "      <div>\n",
              "<style scoped>\n",
              "    .dataframe tbody tr th:only-of-type {\n",
              "        vertical-align: middle;\n",
              "    }\n",
              "\n",
              "    .dataframe tbody tr th {\n",
              "        vertical-align: top;\n",
              "    }\n",
              "\n",
              "    .dataframe thead th {\n",
              "        text-align: right;\n",
              "    }\n",
              "</style>\n",
              "<table border=\"1\" class=\"dataframe\">\n",
              "  <thead>\n",
              "    <tr style=\"text-align: right;\">\n",
              "      <th></th>\n",
              "      <th>id</th>\n",
              "      <th>review</th>\n",
              "      <th>aspect</th>\n",
              "      <th>start_position</th>\n",
              "      <th>end_position</th>\n",
              "      <th>sentence</th>\n",
              "      <th>prediction 1</th>\n",
              "      <th>score 1</th>\n",
              "      <th>prediction 2</th>\n",
              "      <th>score 2</th>\n",
              "      <th>prediction 3</th>\n",
              "      <th>score 3</th>\n",
              "    </tr>\n",
              "  </thead>\n",
              "  <tbody>\n",
              "    <tr>\n",
              "      <th>0</th>\n",
              "      <td>0</td>\n",
              "      <td>Um hotel bem agradável, limpo, hospitaleiro e ...</td>\n",
              "      <td>localização</td>\n",
              "      <td>301</td>\n",
              "      <td>312</td>\n",
              "      <td>O ponto forte é a localização .</td>\n",
              "      <td>admiração</td>\n",
              "      <td>0.493106</td>\n",
              "      <td>neutro</td>\n",
              "      <td>0.283013</td>\n",
              "      <td>aprovação</td>\n",
              "      <td>0.157170</td>\n",
              "    </tr>\n",
              "    <tr>\n",
              "      <th>1</th>\n",
              "      <td>1</td>\n",
              "      <td>Um hotel bem agradável, limpo, hospitaleiro e ...</td>\n",
              "      <td>café da manhã</td>\n",
              "      <td>226</td>\n",
              "      <td>239</td>\n",
              "      <td>O café da manhã é bom , mas simples mesmo .</td>\n",
              "      <td>admiração</td>\n",
              "      <td>0.906012</td>\n",
              "      <td>aprovação</td>\n",
              "      <td>0.049788</td>\n",
              "      <td>neutro</td>\n",
              "      <td>0.015803</td>\n",
              "    </tr>\n",
              "    <tr>\n",
              "      <th>2</th>\n",
              "      <td>2</td>\n",
              "      <td>Um hotel bem agradável, limpo, hospitaleiro e ...</td>\n",
              "      <td>hotel</td>\n",
              "      <td>3</td>\n",
              "      <td>8</td>\n",
              "      <td>Um hotel bem agradável limpo hospitaleiro loca...</td>\n",
              "      <td>admiração</td>\n",
              "      <td>0.960308</td>\n",
              "      <td>aprovação</td>\n",
              "      <td>0.014327</td>\n",
              "      <td>neutro</td>\n",
              "      <td>0.006338</td>\n",
              "    </tr>\n",
              "    <tr>\n",
              "      <th>3</th>\n",
              "      <td>3</td>\n",
              "      <td>Um hotel bem agradável, limpo, hospitaleiro e ...</td>\n",
              "      <td>quarto</td>\n",
              "      <td>86</td>\n",
              "      <td>92</td>\n",
              "      <td>O quarto era pequeno mas bastante limpo , bem ...</td>\n",
              "      <td>admiração</td>\n",
              "      <td>0.665469</td>\n",
              "      <td>neutro</td>\n",
              "      <td>0.154558</td>\n",
              "      <td>aprovação</td>\n",
              "      <td>0.115362</td>\n",
              "    </tr>\n",
              "    <tr>\n",
              "      <th>4</th>\n",
              "      <td>4</td>\n",
              "      <td>Eu realmente não aconselho esse lugar, tudo é ...</td>\n",
              "      <td>atendimento</td>\n",
              "      <td>57</td>\n",
              "      <td>68</td>\n",
              "      <td>Eu realmente não aconselho esse lugar , tudo é...</td>\n",
              "      <td>desaprovação</td>\n",
              "      <td>0.328608</td>\n",
              "      <td>nojo</td>\n",
              "      <td>0.168453</td>\n",
              "      <td>decepção</td>\n",
              "      <td>0.101558</td>\n",
              "    </tr>\n",
              "  </tbody>\n",
              "</table>\n",
              "</div>\n",
              "      <button class=\"colab-df-convert\" onclick=\"convertToInteractive('df-b72a9eee-7425-422c-bf83-d4bef53ac798')\"\n",
              "              title=\"Convert this dataframe to an interactive table.\"\n",
              "              style=\"display:none;\">\n",
              "        \n",
              "  <svg xmlns=\"http://www.w3.org/2000/svg\" height=\"24px\"viewBox=\"0 0 24 24\"\n",
              "       width=\"24px\">\n",
              "    <path d=\"M0 0h24v24H0V0z\" fill=\"none\"/>\n",
              "    <path d=\"M18.56 5.44l.94 2.06.94-2.06 2.06-.94-2.06-.94-.94-2.06-.94 2.06-2.06.94zm-11 1L8.5 8.5l.94-2.06 2.06-.94-2.06-.94L8.5 2.5l-.94 2.06-2.06.94zm10 10l.94 2.06.94-2.06 2.06-.94-2.06-.94-.94-2.06-.94 2.06-2.06.94z\"/><path d=\"M17.41 7.96l-1.37-1.37c-.4-.4-.92-.59-1.43-.59-.52 0-1.04.2-1.43.59L10.3 9.45l-7.72 7.72c-.78.78-.78 2.05 0 2.83L4 21.41c.39.39.9.59 1.41.59.51 0 1.02-.2 1.41-.59l7.78-7.78 2.81-2.81c.8-.78.8-2.07 0-2.86zM5.41 20L4 18.59l7.72-7.72 1.47 1.35L5.41 20z\"/>\n",
              "  </svg>\n",
              "      </button>\n",
              "      \n",
              "  <style>\n",
              "    .colab-df-container {\n",
              "      display:flex;\n",
              "      flex-wrap:wrap;\n",
              "      gap: 12px;\n",
              "    }\n",
              "\n",
              "    .colab-df-convert {\n",
              "      background-color: #E8F0FE;\n",
              "      border: none;\n",
              "      border-radius: 50%;\n",
              "      cursor: pointer;\n",
              "      display: none;\n",
              "      fill: #1967D2;\n",
              "      height: 32px;\n",
              "      padding: 0 0 0 0;\n",
              "      width: 32px;\n",
              "    }\n",
              "\n",
              "    .colab-df-convert:hover {\n",
              "      background-color: #E2EBFA;\n",
              "      box-shadow: 0px 1px 2px rgba(60, 64, 67, 0.3), 0px 1px 3px 1px rgba(60, 64, 67, 0.15);\n",
              "      fill: #174EA6;\n",
              "    }\n",
              "\n",
              "    [theme=dark] .colab-df-convert {\n",
              "      background-color: #3B4455;\n",
              "      fill: #D2E3FC;\n",
              "    }\n",
              "\n",
              "    [theme=dark] .colab-df-convert:hover {\n",
              "      background-color: #434B5C;\n",
              "      box-shadow: 0px 1px 3px 1px rgba(0, 0, 0, 0.15);\n",
              "      filter: drop-shadow(0px 1px 2px rgba(0, 0, 0, 0.3));\n",
              "      fill: #FFFFFF;\n",
              "    }\n",
              "  </style>\n",
              "\n",
              "      <script>\n",
              "        const buttonEl =\n",
              "          document.querySelector('#df-b72a9eee-7425-422c-bf83-d4bef53ac798 button.colab-df-convert');\n",
              "        buttonEl.style.display =\n",
              "          google.colab.kernel.accessAllowed ? 'block' : 'none';\n",
              "\n",
              "        async function convertToInteractive(key) {\n",
              "          const element = document.querySelector('#df-b72a9eee-7425-422c-bf83-d4bef53ac798');\n",
              "          const dataTable =\n",
              "            await google.colab.kernel.invokeFunction('convertToInteractive',\n",
              "                                                     [key], {});\n",
              "          if (!dataTable) return;\n",
              "\n",
              "          const docLinkHtml = 'Like what you see? Visit the ' +\n",
              "            '<a target=\"_blank\" href=https://colab.research.google.com/notebooks/data_table.ipynb>data table notebook</a>'\n",
              "            + ' to learn more about interactive tables.';\n",
              "          element.innerHTML = '';\n",
              "          dataTable['output_type'] = 'display_data';\n",
              "          await google.colab.output.renderOutput(dataTable, element);\n",
              "          const docLink = document.createElement('div');\n",
              "          docLink.innerHTML = docLinkHtml;\n",
              "          element.appendChild(docLink);\n",
              "        }\n",
              "      </script>\n",
              "    </div>\n",
              "  </div>\n",
              "  "
            ]
          },
          "metadata": {},
          "execution_count": 18
        }
      ]
    },
    {
      "cell_type": "code",
      "source": [
        "df_top3 = map_goEmotions(n, df_top3_s)\n",
        "df_top3.head()"
      ],
      "metadata": {
        "id": "N48dnbw3uPPP",
        "colab": {
          "base_uri": "https://localhost:8080/",
          "height": 354
        },
        "outputId": "6c7da836-fe88-45a3-a426-05a5bd99e790"
      },
      "execution_count": 19,
      "outputs": [
        {
          "output_type": "execute_result",
          "data": {
            "text/plain": [
              "   id                                             review         aspect  \\\n",
              "0   0  Um hotel bem agradável, limpo, hospitaleiro e ...    localização   \n",
              "1   1  Um hotel bem agradável, limpo, hospitaleiro e ...  café da manhã   \n",
              "2   2  Um hotel bem agradável, limpo, hospitaleiro e ...          hotel   \n",
              "3   3  Um hotel bem agradável, limpo, hospitaleiro e ...         quarto   \n",
              "4   4  Eu realmente não aconselho esse lugar, tudo é ...    atendimento   \n",
              "\n",
              "   start_position  end_position  \\\n",
              "0             301           312   \n",
              "1             226           239   \n",
              "2               3             8   \n",
              "3              86            92   \n",
              "4              57            68   \n",
              "\n",
              "                                            sentence  prediction 1   score 1  \\\n",
              "0                    O ponto forte é a localização .             1  0.493106   \n",
              "1      O café da manhã é bom , mas simples mesmo .               1  0.906012   \n",
              "2  Um hotel bem agradável limpo hospitaleiro loca...             1  0.960308   \n",
              "3  O quarto era pequeno mas bastante limpo , bem ...             1  0.665469   \n",
              "4  Eu realmente não aconselho esse lugar , tudo é...            -1  0.328608   \n",
              "\n",
              "   prediction 2   score 2  prediction 3   score 3  \n",
              "0             0  0.283013             1  0.157170  \n",
              "1             1  0.049788             0  0.015803  \n",
              "2             1  0.014327             0  0.006338  \n",
              "3             0  0.154558             1  0.115362  \n",
              "4            -1  0.168453            -1  0.101558  "
            ],
            "text/html": [
              "\n",
              "  <div id=\"df-80e1a937-13d1-41b7-a751-c0ab1e0b5016\">\n",
              "    <div class=\"colab-df-container\">\n",
              "      <div>\n",
              "<style scoped>\n",
              "    .dataframe tbody tr th:only-of-type {\n",
              "        vertical-align: middle;\n",
              "    }\n",
              "\n",
              "    .dataframe tbody tr th {\n",
              "        vertical-align: top;\n",
              "    }\n",
              "\n",
              "    .dataframe thead th {\n",
              "        text-align: right;\n",
              "    }\n",
              "</style>\n",
              "<table border=\"1\" class=\"dataframe\">\n",
              "  <thead>\n",
              "    <tr style=\"text-align: right;\">\n",
              "      <th></th>\n",
              "      <th>id</th>\n",
              "      <th>review</th>\n",
              "      <th>aspect</th>\n",
              "      <th>start_position</th>\n",
              "      <th>end_position</th>\n",
              "      <th>sentence</th>\n",
              "      <th>prediction 1</th>\n",
              "      <th>score 1</th>\n",
              "      <th>prediction 2</th>\n",
              "      <th>score 2</th>\n",
              "      <th>prediction 3</th>\n",
              "      <th>score 3</th>\n",
              "    </tr>\n",
              "  </thead>\n",
              "  <tbody>\n",
              "    <tr>\n",
              "      <th>0</th>\n",
              "      <td>0</td>\n",
              "      <td>Um hotel bem agradável, limpo, hospitaleiro e ...</td>\n",
              "      <td>localização</td>\n",
              "      <td>301</td>\n",
              "      <td>312</td>\n",
              "      <td>O ponto forte é a localização .</td>\n",
              "      <td>1</td>\n",
              "      <td>0.493106</td>\n",
              "      <td>0</td>\n",
              "      <td>0.283013</td>\n",
              "      <td>1</td>\n",
              "      <td>0.157170</td>\n",
              "    </tr>\n",
              "    <tr>\n",
              "      <th>1</th>\n",
              "      <td>1</td>\n",
              "      <td>Um hotel bem agradável, limpo, hospitaleiro e ...</td>\n",
              "      <td>café da manhã</td>\n",
              "      <td>226</td>\n",
              "      <td>239</td>\n",
              "      <td>O café da manhã é bom , mas simples mesmo .</td>\n",
              "      <td>1</td>\n",
              "      <td>0.906012</td>\n",
              "      <td>1</td>\n",
              "      <td>0.049788</td>\n",
              "      <td>0</td>\n",
              "      <td>0.015803</td>\n",
              "    </tr>\n",
              "    <tr>\n",
              "      <th>2</th>\n",
              "      <td>2</td>\n",
              "      <td>Um hotel bem agradável, limpo, hospitaleiro e ...</td>\n",
              "      <td>hotel</td>\n",
              "      <td>3</td>\n",
              "      <td>8</td>\n",
              "      <td>Um hotel bem agradável limpo hospitaleiro loca...</td>\n",
              "      <td>1</td>\n",
              "      <td>0.960308</td>\n",
              "      <td>1</td>\n",
              "      <td>0.014327</td>\n",
              "      <td>0</td>\n",
              "      <td>0.006338</td>\n",
              "    </tr>\n",
              "    <tr>\n",
              "      <th>3</th>\n",
              "      <td>3</td>\n",
              "      <td>Um hotel bem agradável, limpo, hospitaleiro e ...</td>\n",
              "      <td>quarto</td>\n",
              "      <td>86</td>\n",
              "      <td>92</td>\n",
              "      <td>O quarto era pequeno mas bastante limpo , bem ...</td>\n",
              "      <td>1</td>\n",
              "      <td>0.665469</td>\n",
              "      <td>0</td>\n",
              "      <td>0.154558</td>\n",
              "      <td>1</td>\n",
              "      <td>0.115362</td>\n",
              "    </tr>\n",
              "    <tr>\n",
              "      <th>4</th>\n",
              "      <td>4</td>\n",
              "      <td>Eu realmente não aconselho esse lugar, tudo é ...</td>\n",
              "      <td>atendimento</td>\n",
              "      <td>57</td>\n",
              "      <td>68</td>\n",
              "      <td>Eu realmente não aconselho esse lugar , tudo é...</td>\n",
              "      <td>-1</td>\n",
              "      <td>0.328608</td>\n",
              "      <td>-1</td>\n",
              "      <td>0.168453</td>\n",
              "      <td>-1</td>\n",
              "      <td>0.101558</td>\n",
              "    </tr>\n",
              "  </tbody>\n",
              "</table>\n",
              "</div>\n",
              "      <button class=\"colab-df-convert\" onclick=\"convertToInteractive('df-80e1a937-13d1-41b7-a751-c0ab1e0b5016')\"\n",
              "              title=\"Convert this dataframe to an interactive table.\"\n",
              "              style=\"display:none;\">\n",
              "        \n",
              "  <svg xmlns=\"http://www.w3.org/2000/svg\" height=\"24px\"viewBox=\"0 0 24 24\"\n",
              "       width=\"24px\">\n",
              "    <path d=\"M0 0h24v24H0V0z\" fill=\"none\"/>\n",
              "    <path d=\"M18.56 5.44l.94 2.06.94-2.06 2.06-.94-2.06-.94-.94-2.06-.94 2.06-2.06.94zm-11 1L8.5 8.5l.94-2.06 2.06-.94-2.06-.94L8.5 2.5l-.94 2.06-2.06.94zm10 10l.94 2.06.94-2.06 2.06-.94-2.06-.94-.94-2.06-.94 2.06-2.06.94z\"/><path d=\"M17.41 7.96l-1.37-1.37c-.4-.4-.92-.59-1.43-.59-.52 0-1.04.2-1.43.59L10.3 9.45l-7.72 7.72c-.78.78-.78 2.05 0 2.83L4 21.41c.39.39.9.59 1.41.59.51 0 1.02-.2 1.41-.59l7.78-7.78 2.81-2.81c.8-.78.8-2.07 0-2.86zM5.41 20L4 18.59l7.72-7.72 1.47 1.35L5.41 20z\"/>\n",
              "  </svg>\n",
              "      </button>\n",
              "      \n",
              "  <style>\n",
              "    .colab-df-container {\n",
              "      display:flex;\n",
              "      flex-wrap:wrap;\n",
              "      gap: 12px;\n",
              "    }\n",
              "\n",
              "    .colab-df-convert {\n",
              "      background-color: #E8F0FE;\n",
              "      border: none;\n",
              "      border-radius: 50%;\n",
              "      cursor: pointer;\n",
              "      display: none;\n",
              "      fill: #1967D2;\n",
              "      height: 32px;\n",
              "      padding: 0 0 0 0;\n",
              "      width: 32px;\n",
              "    }\n",
              "\n",
              "    .colab-df-convert:hover {\n",
              "      background-color: #E2EBFA;\n",
              "      box-shadow: 0px 1px 2px rgba(60, 64, 67, 0.3), 0px 1px 3px 1px rgba(60, 64, 67, 0.15);\n",
              "      fill: #174EA6;\n",
              "    }\n",
              "\n",
              "    [theme=dark] .colab-df-convert {\n",
              "      background-color: #3B4455;\n",
              "      fill: #D2E3FC;\n",
              "    }\n",
              "\n",
              "    [theme=dark] .colab-df-convert:hover {\n",
              "      background-color: #434B5C;\n",
              "      box-shadow: 0px 1px 3px 1px rgba(0, 0, 0, 0.15);\n",
              "      filter: drop-shadow(0px 1px 2px rgba(0, 0, 0, 0.3));\n",
              "      fill: #FFFFFF;\n",
              "    }\n",
              "  </style>\n",
              "\n",
              "      <script>\n",
              "        const buttonEl =\n",
              "          document.querySelector('#df-80e1a937-13d1-41b7-a751-c0ab1e0b5016 button.colab-df-convert');\n",
              "        buttonEl.style.display =\n",
              "          google.colab.kernel.accessAllowed ? 'block' : 'none';\n",
              "\n",
              "        async function convertToInteractive(key) {\n",
              "          const element = document.querySelector('#df-80e1a937-13d1-41b7-a751-c0ab1e0b5016');\n",
              "          const dataTable =\n",
              "            await google.colab.kernel.invokeFunction('convertToInteractive',\n",
              "                                                     [key], {});\n",
              "          if (!dataTable) return;\n",
              "\n",
              "          const docLinkHtml = 'Like what you see? Visit the ' +\n",
              "            '<a target=\"_blank\" href=https://colab.research.google.com/notebooks/data_table.ipynb>data table notebook</a>'\n",
              "            + ' to learn more about interactive tables.';\n",
              "          element.innerHTML = '';\n",
              "          dataTable['output_type'] = 'display_data';\n",
              "          await google.colab.output.renderOutput(dataTable, element);\n",
              "          const docLink = document.createElement('div');\n",
              "          docLink.innerHTML = docLinkHtml;\n",
              "          element.appendChild(docLink);\n",
              "        }\n",
              "      </script>\n",
              "    </div>\n",
              "  </div>\n",
              "  "
            ]
          },
          "metadata": {},
          "execution_count": 19
        }
      ]
    },
    {
      "cell_type": "markdown",
      "source": [
        "### Top 3 with treshold"
      ],
      "metadata": {
        "id": "oTkCKXKNfdaV"
      }
    },
    {
      "cell_type": "code",
      "source": [
        "def get_top3_t(df, t):\n",
        "  prediction = []\n",
        "  for i in df.iloc():\n",
        "    if i['score 1'] >= t:\n",
        "      prediction.append(i['prediction 1'])\n",
        "    else:\n",
        "      if i['prediction 1'] == i['prediction 2'] or i['prediction 1'] == i['prediction 3']:\n",
        "        prediction.append(i['prediction 1'])\n",
        "      elif i['prediction 2'] == i['prediction 3']:\n",
        "        prediction.append(i['prediction 2'])\n",
        "      else:\n",
        "        prediction.append(i['prediction 1'])\n",
        "  return prediction"
      ],
      "metadata": {
        "id": "VpNwyhb-bjVR"
      },
      "execution_count": 24,
      "outputs": []
    },
    {
      "cell_type": "code",
      "source": [
        "prediction = get_top3_t(df_top3_s, 0.9)"
      ],
      "metadata": {
        "id": "PJc5Ozprfdam"
      },
      "execution_count": 49,
      "outputs": []
    },
    {
      "cell_type": "markdown",
      "source": [
        "#### Annull OBL Aspects"
      ],
      "metadata": {
        "id": "vuLwom4425Vy"
      }
    },
    {
      "cell_type": "code",
      "source": [
        "prediction = annull_obl(prediction, obl_index)\n",
        "print(prediction)"
      ],
      "metadata": {
        "id": "98h1ZDSm25Vz",
        "colab": {
          "base_uri": "https://localhost:8080/"
        },
        "outputId": "81fed16b-cbac-477d-b0e0-7b4b9bfa9570"
      },
      "execution_count": 50,
      "outputs": [
        {
          "output_type": "stream",
          "name": "stdout",
          "text": [
            "[1, 1, 1, 1, -1, 0, -1, -1, 0, 0, 0, 0, -1, 0, -1, -1, -1, -1, -1, -1, -1, 0, 1, 1, 0, 0, 0, 0, 0, -1, 0, -1, 0, -1, 0, 1, 1, 0, -1, 1, 1, -1, 1, 0, 0, 0, 1, 1, 1, 0, 0, 1, 1, 1, 1, -1, 0, 0, 1, 1, 0, 0, 1, -1, 0, -1, 1, -1, 0, 1, 0, 0, 1, 1, 1, 1, 1, 0, 1, 1, 1, 0, 1, 1, 1, 1, 0, 1, 1, 1, 0, 1, 0, 1, 1, 1, 0, 0, 1, 0, 1, 1, 1, 1, 0, 0, 1, -1, 1, -1, 0, 0, 1, 0, 0, 0, 1, 0, 1, 0, 1, 1, 1, 1, 0, 1, 0, 1, 1, 0, 1, 0, 0, 1, 0, 0, 0, 1, 1, -1, 1, 1, 1, 0, 1, 1, 0, 1, 1, 1, -1, 1, 1, 0, 1, 0, 0, 1, 0, 1, -1, 0, -1, 1, 0, 1, 1, 1, 1, 0, 0, 0, -1, 0, -1, 0, 0, 1, 1, 1, 1, 1, 1, 1, 0, 1, 1, 1, 1, 0, 1, 1, 0, 0, 1, 1, 0, 0, 1, 1, -1, 1, 0, 1, 1, 0, 1, 1, 0, 1, 1, -1, 0, -1, 0, 0, -1, -1, -1, 1, 1, 1, 1, 1, 0, 0, 0, 1, 0, 0, 1, 1, 1, 0, 0, 0, 1, 1, 1, 0, 0, 0, 0, 1, 1, 1, 1, 1, 0, 1, 0, -1, 0, 1, 1, 1, 0, 1, 1, 0, 0, 1, -1, 1, 0, 1, 1, 0, 1, 1, 1, 1, 1, 1, 1, 1, 1, 1, 0, 1, 1, 1, 1, 0, 1, 0, 0, 1, 0, 0, 1, 1, 1, 1, 0, -1, 0, 1, 1, 1, 0, 0, 0, -1, 1, -1, 1, 1, -1, 0, 1, 1, 1, 1, 0, 1, 0, 1, 0, 0, 0, 0, 0, 0, 1, 0, 0, 0, 1, 0, 0, 1, 1, 1, -1, 0, -1, -1, 0, 0, 0, -1, 1, 0, 1, 0, 1, 0, 0, 1, 0, 1, 0, 1, 0, 1, 1, 1, 0, -1, 1, 0, 0, 0, 0, -1, 1, 1, 1, 0, 0, 0, 1, 1, 1, 1, 1, 1, 0, 1, 0, 1, 1, 0, 1, 1, 1, 1, 1, 1, 1, 1, 1, 0, 1, 1, 1, 1, 0, 1, 0, -1, 0, 0, 0, 0, 0, 0, 0, 1, 1, -1, 1, 1, 1, 1, 0, 1, 1, 0, 1, 1, 1, 0, 0, 1, 1, 0, 0, 1, 0, 0, -1, 1, 1, 0, 1, 1, 1, 0, 1, 1, 0, 1, 0, 0, 1, 1, 1, 0, 0, 0, 0, 0, 1, 1, 1, 1, 0, -1, -1, -1, -1, 0, 1, 0, 0, 1, 1, 1, 1, 1, 1, 1, 1, 0, 1, 0, 1, 1, 1, 1, 1, 1, 1, 0, 1, 1, 1, 1, 0, 1, 1, 0, 1, 0, 1, 1, 0, 0, 1, 1, 1, 1, 1, 0, 1, 1, 1, 1, 1, 1, 1, -1, 1, -1, 0, 1, 0, 0, 0, 1, 1, 1, 0, 1, -1, 0, 0, 1, 1, 1, 1, 1, 1, 1, 0, -1, 0, 1, -1, 0, 1, 1, 1, 0, 1, 0, 0, 0, 0, 1, -1, -1, 0, 1, 1, -1, 0, 1, 1, -1, 0, 0, 0, 0, 0, -1, -1, 0, 0, 1, 1, 1, 1, 0, 1, 1, 1, 0, 1, 1, -1, -1, 1, 1, -1, 0, 0, 0, 0, 1, 0, 1, 1, 0, 0, 0, 0, 0, 1, 1, 0, 0, 0, 1, 0, 1, -1, 1, 0, 0, 0, 1, -1, 0, 1, 0, 1, 1, 0, 1, 1, 1, 1, 1, 1, 1, 1, 1, 1, 1, 1, 1, 0, 0, 0, -1, 0, 0, 0, 1, 1, 1, 0, 1, 0, -1, 1, 1, 0, 1, 0, 1, 0, 1, 1, 1, 1, 1, 0, 1, 1, 1, 0, 1, 1, 1, 0, 1, 0, 1, 1, 1, 0, 1, 1, 0, 1, 0, 0, 0, -1, 0, 0, 0]\n"
          ]
        }
      ]
    },
    {
      "cell_type": "code",
      "source": [
        "df = df_top3.copy()\n",
        "df.drop(columns=['review', 'aspect', 'start_position', 'end_position', \n",
        "                 'sentence', 'prediction 1', 'score 1', 'prediction 2',\n",
        "                 'score 2', 'prediction 3', 'score 3'],\n",
        "       inplace=True)\n",
        "df['polarity'] = prediction\n",
        "df.head()"
      ],
      "metadata": {
        "colab": {
          "base_uri": "https://localhost:8080/",
          "height": 206
        },
        "id": "iTmLBy-Ic8Zj",
        "outputId": "b3224647-b3cb-458b-ecad-912977cc3c74"
      },
      "execution_count": 51,
      "outputs": [
        {
          "output_type": "execute_result",
          "data": {
            "text/plain": [
              "   id  polarity\n",
              "0   0         1\n",
              "1   1         1\n",
              "2   2         1\n",
              "3   3         1\n",
              "4   4        -1"
            ],
            "text/html": [
              "\n",
              "  <div id=\"df-7b705104-65b9-40c3-ae80-de29f0c091ff\">\n",
              "    <div class=\"colab-df-container\">\n",
              "      <div>\n",
              "<style scoped>\n",
              "    .dataframe tbody tr th:only-of-type {\n",
              "        vertical-align: middle;\n",
              "    }\n",
              "\n",
              "    .dataframe tbody tr th {\n",
              "        vertical-align: top;\n",
              "    }\n",
              "\n",
              "    .dataframe thead th {\n",
              "        text-align: right;\n",
              "    }\n",
              "</style>\n",
              "<table border=\"1\" class=\"dataframe\">\n",
              "  <thead>\n",
              "    <tr style=\"text-align: right;\">\n",
              "      <th></th>\n",
              "      <th>id</th>\n",
              "      <th>polarity</th>\n",
              "    </tr>\n",
              "  </thead>\n",
              "  <tbody>\n",
              "    <tr>\n",
              "      <th>0</th>\n",
              "      <td>0</td>\n",
              "      <td>1</td>\n",
              "    </tr>\n",
              "    <tr>\n",
              "      <th>1</th>\n",
              "      <td>1</td>\n",
              "      <td>1</td>\n",
              "    </tr>\n",
              "    <tr>\n",
              "      <th>2</th>\n",
              "      <td>2</td>\n",
              "      <td>1</td>\n",
              "    </tr>\n",
              "    <tr>\n",
              "      <th>3</th>\n",
              "      <td>3</td>\n",
              "      <td>1</td>\n",
              "    </tr>\n",
              "    <tr>\n",
              "      <th>4</th>\n",
              "      <td>4</td>\n",
              "      <td>-1</td>\n",
              "    </tr>\n",
              "  </tbody>\n",
              "</table>\n",
              "</div>\n",
              "      <button class=\"colab-df-convert\" onclick=\"convertToInteractive('df-7b705104-65b9-40c3-ae80-de29f0c091ff')\"\n",
              "              title=\"Convert this dataframe to an interactive table.\"\n",
              "              style=\"display:none;\">\n",
              "        \n",
              "  <svg xmlns=\"http://www.w3.org/2000/svg\" height=\"24px\"viewBox=\"0 0 24 24\"\n",
              "       width=\"24px\">\n",
              "    <path d=\"M0 0h24v24H0V0z\" fill=\"none\"/>\n",
              "    <path d=\"M18.56 5.44l.94 2.06.94-2.06 2.06-.94-2.06-.94-.94-2.06-.94 2.06-2.06.94zm-11 1L8.5 8.5l.94-2.06 2.06-.94-2.06-.94L8.5 2.5l-.94 2.06-2.06.94zm10 10l.94 2.06.94-2.06 2.06-.94-2.06-.94-.94-2.06-.94 2.06-2.06.94z\"/><path d=\"M17.41 7.96l-1.37-1.37c-.4-.4-.92-.59-1.43-.59-.52 0-1.04.2-1.43.59L10.3 9.45l-7.72 7.72c-.78.78-.78 2.05 0 2.83L4 21.41c.39.39.9.59 1.41.59.51 0 1.02-.2 1.41-.59l7.78-7.78 2.81-2.81c.8-.78.8-2.07 0-2.86zM5.41 20L4 18.59l7.72-7.72 1.47 1.35L5.41 20z\"/>\n",
              "  </svg>\n",
              "      </button>\n",
              "      \n",
              "  <style>\n",
              "    .colab-df-container {\n",
              "      display:flex;\n",
              "      flex-wrap:wrap;\n",
              "      gap: 12px;\n",
              "    }\n",
              "\n",
              "    .colab-df-convert {\n",
              "      background-color: #E8F0FE;\n",
              "      border: none;\n",
              "      border-radius: 50%;\n",
              "      cursor: pointer;\n",
              "      display: none;\n",
              "      fill: #1967D2;\n",
              "      height: 32px;\n",
              "      padding: 0 0 0 0;\n",
              "      width: 32px;\n",
              "    }\n",
              "\n",
              "    .colab-df-convert:hover {\n",
              "      background-color: #E2EBFA;\n",
              "      box-shadow: 0px 1px 2px rgba(60, 64, 67, 0.3), 0px 1px 3px 1px rgba(60, 64, 67, 0.15);\n",
              "      fill: #174EA6;\n",
              "    }\n",
              "\n",
              "    [theme=dark] .colab-df-convert {\n",
              "      background-color: #3B4455;\n",
              "      fill: #D2E3FC;\n",
              "    }\n",
              "\n",
              "    [theme=dark] .colab-df-convert:hover {\n",
              "      background-color: #434B5C;\n",
              "      box-shadow: 0px 1px 3px 1px rgba(0, 0, 0, 0.15);\n",
              "      filter: drop-shadow(0px 1px 2px rgba(0, 0, 0, 0.3));\n",
              "      fill: #FFFFFF;\n",
              "    }\n",
              "  </style>\n",
              "\n",
              "      <script>\n",
              "        const buttonEl =\n",
              "          document.querySelector('#df-7b705104-65b9-40c3-ae80-de29f0c091ff button.colab-df-convert');\n",
              "        buttonEl.style.display =\n",
              "          google.colab.kernel.accessAllowed ? 'block' : 'none';\n",
              "\n",
              "        async function convertToInteractive(key) {\n",
              "          const element = document.querySelector('#df-7b705104-65b9-40c3-ae80-de29f0c091ff');\n",
              "          const dataTable =\n",
              "            await google.colab.kernel.invokeFunction('convertToInteractive',\n",
              "                                                     [key], {});\n",
              "          if (!dataTable) return;\n",
              "\n",
              "          const docLinkHtml = 'Like what you see? Visit the ' +\n",
              "            '<a target=\"_blank\" href=https://colab.research.google.com/notebooks/data_table.ipynb>data table notebook</a>'\n",
              "            + ' to learn more about interactive tables.';\n",
              "          element.innerHTML = '';\n",
              "          dataTable['output_type'] = 'display_data';\n",
              "          await google.colab.output.renderOutput(dataTable, element);\n",
              "          const docLink = document.createElement('div');\n",
              "          docLink.innerHTML = docLinkHtml;\n",
              "          element.appendChild(docLink);\n",
              "        }\n",
              "      </script>\n",
              "    </div>\n",
              "  </div>\n",
              "  "
            ]
          },
          "metadata": {},
          "execution_count": 51
        }
      ]
    }
  ],
  "metadata": {
    "colab": {
      "name": "task2_test.ipynb",
      "provenance": [],
      "collapsed_sections": []
    },
    "kernelspec": {
      "display_name": "Python 3",
      "name": "python3"
    },
    "language_info": {
      "name": "python"
    }
  },
  "nbformat": 4,
  "nbformat_minor": 0
}
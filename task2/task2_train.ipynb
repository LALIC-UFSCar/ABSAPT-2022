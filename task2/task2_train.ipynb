{
  "cells": [
    {
      "cell_type": "markdown",
      "metadata": {
        "id": "el-5igpzBaRE"
      },
      "source": [
        "# Importing Libraries"
      ]
    },
    {
      "cell_type": "code",
      "execution_count": 1,
      "metadata": {
        "id": "5OsqcqyUg4_G",
        "colab": {
          "base_uri": "https://localhost:8080/"
        },
        "outputId": "57d0504f-cc18-483f-a372-df5100ed08d9"
      },
      "outputs": [
        {
          "output_type": "stream",
          "name": "stdout",
          "text": [
            "Looking in indexes: https://pypi.org/simple, https://us-python.pkg.dev/colab-wheels/public/simple/\n",
            "Requirement already satisfied: spacy in /usr/local/lib/python3.7/dist-packages (3.3.1)\n",
            "Requirement already satisfied: typing-extensions<4.2.0,>=3.7.4 in /usr/local/lib/python3.7/dist-packages (from spacy) (4.1.1)\n",
            "Requirement already satisfied: cymem<2.1.0,>=2.0.2 in /usr/local/lib/python3.7/dist-packages (from spacy) (2.0.6)\n",
            "Requirement already satisfied: catalogue<2.1.0,>=2.0.6 in /usr/local/lib/python3.7/dist-packages (from spacy) (2.0.7)\n",
            "Requirement already satisfied: blis<0.8.0,>=0.4.0 in /usr/local/lib/python3.7/dist-packages (from spacy) (0.7.7)\n",
            "Requirement already satisfied: packaging>=20.0 in /usr/local/lib/python3.7/dist-packages (from spacy) (21.3)\n",
            "Requirement already satisfied: wasabi<1.1.0,>=0.9.1 in /usr/local/lib/python3.7/dist-packages (from spacy) (0.9.1)\n",
            "Requirement already satisfied: preshed<3.1.0,>=3.0.2 in /usr/local/lib/python3.7/dist-packages (from spacy) (3.0.6)\n",
            "Requirement already satisfied: pydantic!=1.8,!=1.8.1,<1.9.0,>=1.7.4 in /usr/local/lib/python3.7/dist-packages (from spacy) (1.8.2)\n",
            "Requirement already satisfied: langcodes<4.0.0,>=3.2.0 in /usr/local/lib/python3.7/dist-packages (from spacy) (3.3.0)\n",
            "Requirement already satisfied: srsly<3.0.0,>=2.4.3 in /usr/local/lib/python3.7/dist-packages (from spacy) (2.4.3)\n",
            "Requirement already satisfied: murmurhash<1.1.0,>=0.28.0 in /usr/local/lib/python3.7/dist-packages (from spacy) (1.0.7)\n",
            "Requirement already satisfied: pathy>=0.3.5 in /usr/local/lib/python3.7/dist-packages (from spacy) (0.6.1)\n",
            "Requirement already satisfied: typer<0.5.0,>=0.3.0 in /usr/local/lib/python3.7/dist-packages (from spacy) (0.4.1)\n",
            "Requirement already satisfied: tqdm<5.0.0,>=4.38.0 in /usr/local/lib/python3.7/dist-packages (from spacy) (4.64.0)\n",
            "Requirement already satisfied: spacy-legacy<3.1.0,>=3.0.9 in /usr/local/lib/python3.7/dist-packages (from spacy) (3.0.9)\n",
            "Requirement already satisfied: numpy>=1.15.0 in /usr/local/lib/python3.7/dist-packages (from spacy) (1.21.6)\n",
            "Requirement already satisfied: jinja2 in /usr/local/lib/python3.7/dist-packages (from spacy) (2.11.3)\n",
            "Requirement already satisfied: spacy-loggers<2.0.0,>=1.0.0 in /usr/local/lib/python3.7/dist-packages (from spacy) (1.0.2)\n",
            "Requirement already satisfied: setuptools in /usr/local/lib/python3.7/dist-packages (from spacy) (57.4.0)\n",
            "Requirement already satisfied: requests<3.0.0,>=2.13.0 in /usr/local/lib/python3.7/dist-packages (from spacy) (2.23.0)\n",
            "Requirement already satisfied: thinc<8.1.0,>=8.0.14 in /usr/local/lib/python3.7/dist-packages (from spacy) (8.0.17)\n",
            "Requirement already satisfied: zipp>=0.5 in /usr/local/lib/python3.7/dist-packages (from catalogue<2.1.0,>=2.0.6->spacy) (3.8.0)\n",
            "Requirement already satisfied: pyparsing!=3.0.5,>=2.0.2 in /usr/local/lib/python3.7/dist-packages (from packaging>=20.0->spacy) (3.0.9)\n",
            "Requirement already satisfied: smart-open<6.0.0,>=5.0.0 in /usr/local/lib/python3.7/dist-packages (from pathy>=0.3.5->spacy) (5.2.1)\n",
            "Requirement already satisfied: chardet<4,>=3.0.2 in /usr/local/lib/python3.7/dist-packages (from requests<3.0.0,>=2.13.0->spacy) (3.0.4)\n",
            "Requirement already satisfied: urllib3!=1.25.0,!=1.25.1,<1.26,>=1.21.1 in /usr/local/lib/python3.7/dist-packages (from requests<3.0.0,>=2.13.0->spacy) (1.24.3)\n",
            "Requirement already satisfied: certifi>=2017.4.17 in /usr/local/lib/python3.7/dist-packages (from requests<3.0.0,>=2.13.0->spacy) (2022.6.15)\n",
            "Requirement already satisfied: idna<3,>=2.5 in /usr/local/lib/python3.7/dist-packages (from requests<3.0.0,>=2.13.0->spacy) (2.10)\n",
            "Requirement already satisfied: click<9.0.0,>=7.1.1 in /usr/local/lib/python3.7/dist-packages (from typer<0.5.0,>=0.3.0->spacy) (7.1.2)\n",
            "Requirement already satisfied: MarkupSafe>=0.23 in /usr/local/lib/python3.7/dist-packages (from jinja2->spacy) (2.0.1)\n",
            "Looking in indexes: https://pypi.org/simple, https://us-python.pkg.dev/colab-wheels/public/simple/\n",
            "Collecting pt-core-news-lg==3.3.0\n",
            "  Downloading https://github.com/explosion/spacy-models/releases/download/pt_core_news_lg-3.3.0/pt_core_news_lg-3.3.0-py3-none-any.whl (568.2 MB)\n",
            "\u001b[K     |████████████████████████████████| 568.2 MB 8.8 kB/s \n",
            "\u001b[?25hRequirement already satisfied: spacy<3.4.0,>=3.3.0.dev0 in /usr/local/lib/python3.7/dist-packages (from pt-core-news-lg==3.3.0) (3.3.1)\n",
            "Requirement already satisfied: preshed<3.1.0,>=3.0.2 in /usr/local/lib/python3.7/dist-packages (from spacy<3.4.0,>=3.3.0.dev0->pt-core-news-lg==3.3.0) (3.0.6)\n",
            "Requirement already satisfied: pydantic!=1.8,!=1.8.1,<1.9.0,>=1.7.4 in /usr/local/lib/python3.7/dist-packages (from spacy<3.4.0,>=3.3.0.dev0->pt-core-news-lg==3.3.0) (1.8.2)\n",
            "Requirement already satisfied: catalogue<2.1.0,>=2.0.6 in /usr/local/lib/python3.7/dist-packages (from spacy<3.4.0,>=3.3.0.dev0->pt-core-news-lg==3.3.0) (2.0.7)\n",
            "Requirement already satisfied: numpy>=1.15.0 in /usr/local/lib/python3.7/dist-packages (from spacy<3.4.0,>=3.3.0.dev0->pt-core-news-lg==3.3.0) (1.21.6)\n",
            "Requirement already satisfied: tqdm<5.0.0,>=4.38.0 in /usr/local/lib/python3.7/dist-packages (from spacy<3.4.0,>=3.3.0.dev0->pt-core-news-lg==3.3.0) (4.64.0)\n",
            "Requirement already satisfied: blis<0.8.0,>=0.4.0 in /usr/local/lib/python3.7/dist-packages (from spacy<3.4.0,>=3.3.0.dev0->pt-core-news-lg==3.3.0) (0.7.7)\n",
            "Requirement already satisfied: requests<3.0.0,>=2.13.0 in /usr/local/lib/python3.7/dist-packages (from spacy<3.4.0,>=3.3.0.dev0->pt-core-news-lg==3.3.0) (2.23.0)\n",
            "Requirement already satisfied: spacy-legacy<3.1.0,>=3.0.9 in /usr/local/lib/python3.7/dist-packages (from spacy<3.4.0,>=3.3.0.dev0->pt-core-news-lg==3.3.0) (3.0.9)\n",
            "Requirement already satisfied: jinja2 in /usr/local/lib/python3.7/dist-packages (from spacy<3.4.0,>=3.3.0.dev0->pt-core-news-lg==3.3.0) (2.11.3)\n",
            "Requirement already satisfied: packaging>=20.0 in /usr/local/lib/python3.7/dist-packages (from spacy<3.4.0,>=3.3.0.dev0->pt-core-news-lg==3.3.0) (21.3)\n",
            "Requirement already satisfied: srsly<3.0.0,>=2.4.3 in /usr/local/lib/python3.7/dist-packages (from spacy<3.4.0,>=3.3.0.dev0->pt-core-news-lg==3.3.0) (2.4.3)\n",
            "Requirement already satisfied: langcodes<4.0.0,>=3.2.0 in /usr/local/lib/python3.7/dist-packages (from spacy<3.4.0,>=3.3.0.dev0->pt-core-news-lg==3.3.0) (3.3.0)\n",
            "Requirement already satisfied: pathy>=0.3.5 in /usr/local/lib/python3.7/dist-packages (from spacy<3.4.0,>=3.3.0.dev0->pt-core-news-lg==3.3.0) (0.6.1)\n",
            "Requirement already satisfied: typing-extensions<4.2.0,>=3.7.4 in /usr/local/lib/python3.7/dist-packages (from spacy<3.4.0,>=3.3.0.dev0->pt-core-news-lg==3.3.0) (4.1.1)\n",
            "Requirement already satisfied: thinc<8.1.0,>=8.0.14 in /usr/local/lib/python3.7/dist-packages (from spacy<3.4.0,>=3.3.0.dev0->pt-core-news-lg==3.3.0) (8.0.17)\n",
            "Requirement already satisfied: typer<0.5.0,>=0.3.0 in /usr/local/lib/python3.7/dist-packages (from spacy<3.4.0,>=3.3.0.dev0->pt-core-news-lg==3.3.0) (0.4.1)\n",
            "Requirement already satisfied: murmurhash<1.1.0,>=0.28.0 in /usr/local/lib/python3.7/dist-packages (from spacy<3.4.0,>=3.3.0.dev0->pt-core-news-lg==3.3.0) (1.0.7)\n",
            "Requirement already satisfied: setuptools in /usr/local/lib/python3.7/dist-packages (from spacy<3.4.0,>=3.3.0.dev0->pt-core-news-lg==3.3.0) (57.4.0)\n",
            "Requirement already satisfied: cymem<2.1.0,>=2.0.2 in /usr/local/lib/python3.7/dist-packages (from spacy<3.4.0,>=3.3.0.dev0->pt-core-news-lg==3.3.0) (2.0.6)\n",
            "Requirement already satisfied: spacy-loggers<2.0.0,>=1.0.0 in /usr/local/lib/python3.7/dist-packages (from spacy<3.4.0,>=3.3.0.dev0->pt-core-news-lg==3.3.0) (1.0.2)\n",
            "Requirement already satisfied: wasabi<1.1.0,>=0.9.1 in /usr/local/lib/python3.7/dist-packages (from spacy<3.4.0,>=3.3.0.dev0->pt-core-news-lg==3.3.0) (0.9.1)\n",
            "Requirement already satisfied: zipp>=0.5 in /usr/local/lib/python3.7/dist-packages (from catalogue<2.1.0,>=2.0.6->spacy<3.4.0,>=3.3.0.dev0->pt-core-news-lg==3.3.0) (3.8.0)\n",
            "Requirement already satisfied: pyparsing!=3.0.5,>=2.0.2 in /usr/local/lib/python3.7/dist-packages (from packaging>=20.0->spacy<3.4.0,>=3.3.0.dev0->pt-core-news-lg==3.3.0) (3.0.9)\n",
            "Requirement already satisfied: smart-open<6.0.0,>=5.0.0 in /usr/local/lib/python3.7/dist-packages (from pathy>=0.3.5->spacy<3.4.0,>=3.3.0.dev0->pt-core-news-lg==3.3.0) (5.2.1)\n",
            "Requirement already satisfied: chardet<4,>=3.0.2 in /usr/local/lib/python3.7/dist-packages (from requests<3.0.0,>=2.13.0->spacy<3.4.0,>=3.3.0.dev0->pt-core-news-lg==3.3.0) (3.0.4)\n",
            "Requirement already satisfied: certifi>=2017.4.17 in /usr/local/lib/python3.7/dist-packages (from requests<3.0.0,>=2.13.0->spacy<3.4.0,>=3.3.0.dev0->pt-core-news-lg==3.3.0) (2022.6.15)\n",
            "Requirement already satisfied: idna<3,>=2.5 in /usr/local/lib/python3.7/dist-packages (from requests<3.0.0,>=2.13.0->spacy<3.4.0,>=3.3.0.dev0->pt-core-news-lg==3.3.0) (2.10)\n",
            "Requirement already satisfied: urllib3!=1.25.0,!=1.25.1,<1.26,>=1.21.1 in /usr/local/lib/python3.7/dist-packages (from requests<3.0.0,>=2.13.0->spacy<3.4.0,>=3.3.0.dev0->pt-core-news-lg==3.3.0) (1.24.3)\n",
            "Requirement already satisfied: click<9.0.0,>=7.1.1 in /usr/local/lib/python3.7/dist-packages (from typer<0.5.0,>=0.3.0->spacy<3.4.0,>=3.3.0.dev0->pt-core-news-lg==3.3.0) (7.1.2)\n",
            "Requirement already satisfied: MarkupSafe>=0.23 in /usr/local/lib/python3.7/dist-packages (from jinja2->spacy<3.4.0,>=3.3.0.dev0->pt-core-news-lg==3.3.0) (2.0.1)\n",
            "\u001b[38;5;2m✔ Download and installation successful\u001b[0m\n",
            "You can now load the package via spacy.load('pt_core_news_lg')\n"
          ]
        }
      ],
      "source": [
        "!pip install --upgrade spacy\n",
        "!python -m spacy download pt_core_news_lg"
      ]
    },
    {
      "cell_type": "code",
      "execution_count": 2,
      "metadata": {
        "id": "mmXKDLK3_zAb",
        "colab": {
          "base_uri": "https://localhost:8080/"
        },
        "outputId": "479efb13-7390-4a2c-e5ba-1fe3eb128eaf"
      },
      "outputs": [
        {
          "output_type": "stream",
          "name": "stdout",
          "text": [
            "Looking in indexes: https://pypi.org/simple, https://us-python.pkg.dev/colab-wheels/public/simple/\n",
            "Requirement already satisfied: transformers in /usr/local/lib/python3.7/dist-packages (4.20.1)\n",
            "Requirement already satisfied: filelock in /usr/local/lib/python3.7/dist-packages (from transformers) (3.7.1)\n",
            "Requirement already satisfied: pyyaml>=5.1 in /usr/local/lib/python3.7/dist-packages (from transformers) (6.0)\n",
            "Requirement already satisfied: huggingface-hub<1.0,>=0.1.0 in /usr/local/lib/python3.7/dist-packages (from transformers) (0.8.1)\n",
            "Requirement already satisfied: requests in /usr/local/lib/python3.7/dist-packages (from transformers) (2.23.0)\n",
            "Requirement already satisfied: packaging>=20.0 in /usr/local/lib/python3.7/dist-packages (from transformers) (21.3)\n",
            "Requirement already satisfied: numpy>=1.17 in /usr/local/lib/python3.7/dist-packages (from transformers) (1.21.6)\n",
            "Requirement already satisfied: regex!=2019.12.17 in /usr/local/lib/python3.7/dist-packages (from transformers) (2022.6.2)\n",
            "Requirement already satisfied: tokenizers!=0.11.3,<0.13,>=0.11.1 in /usr/local/lib/python3.7/dist-packages (from transformers) (0.12.1)\n",
            "Requirement already satisfied: tqdm>=4.27 in /usr/local/lib/python3.7/dist-packages (from transformers) (4.64.0)\n",
            "Requirement already satisfied: importlib-metadata in /usr/local/lib/python3.7/dist-packages (from transformers) (4.11.4)\n",
            "Requirement already satisfied: typing-extensions>=3.7.4.3 in /usr/local/lib/python3.7/dist-packages (from huggingface-hub<1.0,>=0.1.0->transformers) (4.1.1)\n",
            "Requirement already satisfied: pyparsing!=3.0.5,>=2.0.2 in /usr/local/lib/python3.7/dist-packages (from packaging>=20.0->transformers) (3.0.9)\n",
            "Requirement already satisfied: zipp>=0.5 in /usr/local/lib/python3.7/dist-packages (from importlib-metadata->transformers) (3.8.0)\n",
            "Requirement already satisfied: chardet<4,>=3.0.2 in /usr/local/lib/python3.7/dist-packages (from requests->transformers) (3.0.4)\n",
            "Requirement already satisfied: idna<3,>=2.5 in /usr/local/lib/python3.7/dist-packages (from requests->transformers) (2.10)\n",
            "Requirement already satisfied: urllib3!=1.25.0,!=1.25.1,<1.26,>=1.21.1 in /usr/local/lib/python3.7/dist-packages (from requests->transformers) (1.24.3)\n",
            "Requirement already satisfied: certifi>=2017.4.17 in /usr/local/lib/python3.7/dist-packages (from requests->transformers) (2022.6.15)\n"
          ]
        }
      ],
      "source": [
        "!pip install transformers"
      ]
    },
    {
      "cell_type": "code",
      "execution_count": 3,
      "metadata": {
        "id": "UlKXvjUg-0G2"
      },
      "outputs": [],
      "source": [
        "from google.colab import drive\n",
        "from transformers import BertTokenizer, BertForSequenceClassification, pipeline\n",
        "import collections\n",
        "import pandas as pd\n",
        "from sklearn.metrics import precision_score, \\\n",
        "    recall_score, confusion_matrix, classification_report, \\\n",
        "    accuracy_score, f1_score, balanced_accuracy_score\n",
        "from ast import literal_eval\n",
        "import spacy"
      ]
    },
    {
      "cell_type": "code",
      "execution_count": 4,
      "metadata": {
        "id": "J11pYuVthcKw"
      },
      "outputs": [],
      "source": [
        "nlp = spacy.load(\"pt_core_news_lg\")"
      ]
    },
    {
      "cell_type": "code",
      "execution_count": 5,
      "metadata": {
        "id": "nSUR2qDIA-3Y",
        "colab": {
          "base_uri": "https://localhost:8080/"
        },
        "outputId": "704a9d65-632b-448e-97ad-3c19a88d90a5"
      },
      "outputs": [
        {
          "output_type": "stream",
          "name": "stdout",
          "text": [
            "Drive already mounted at /content/drive; to attempt to forcibly remount, call drive.mount(\"/content/drive\", force_remount=True).\n"
          ]
        }
      ],
      "source": [
        "drive.mount('/content/drive')"
      ]
    },
    {
      "cell_type": "markdown",
      "metadata": {
        "id": "xtOSYj2BWOal"
      },
      "source": [
        "# Importing Dataset"
      ]
    },
    {
      "cell_type": "code",
      "execution_count": 6,
      "metadata": {
        "id": "46iW_AsIAuAO",
        "colab": {
          "base_uri": "https://localhost:8080/"
        },
        "outputId": "1df7fb5e-da9b-4717-f453-67e4131ba3c7"
      },
      "outputs": [
        {
          "output_type": "stream",
          "name": "stdout",
          "text": [
            "/usr/local/lib/python3.7/dist-packages/gdown/cli.py:131: FutureWarning: Option `--id` was deprecated in version 4.3.1 and will be removed in 5.0. You don't need to pass it anymore to use a file ID.\n",
            "  category=FutureWarning,\n",
            "Downloading...\n",
            "From: https://drive.google.com/uc?id=1-E218dG9enVozV8oESpOQRZOC0knmPvd\n",
            "To: /content/train.csv\n",
            "100% 1.38M/1.38M [00:00<00:00, 71.9MB/s]\n"
          ]
        }
      ],
      "source": [
        "!gdown --id 1-E218dG9enVozV8oESpOQRZOC0knmPvd"
      ]
    },
    {
      "cell_type": "code",
      "execution_count": 7,
      "metadata": {
        "id": "It8qxOS2WRmQ",
        "colab": {
          "base_uri": "https://localhost:8080/",
          "height": 206
        },
        "outputId": "2a396bf2-0437-4a8a-808e-c002715bb857"
      },
      "outputs": [
        {
          "output_type": "execute_result",
          "data": {
            "text/plain": [
              "   id                                             review  polarity  \\\n",
              "0   0  O hotel é perto de todos os pontos principais ...         0   \n",
              "1   1  Viajamos eu e minha irmã. O hotel tem uma extr...         1   \n",
              "2   2  Estive por 8 dias hospedado neste hotel com mi...         1   \n",
              "3   3  Adorei a estadia. Porto Alegre foi sensacional...        -1   \n",
              "4   4  O hotel tem ótima localização, fizemos vários ...         1   \n",
              "\n",
              "          aspect  start_position  end_position  \n",
              "0         quarto             152           158  \n",
              "1       elevador              63            71  \n",
              "2  café da manhã             209           222  \n",
              "3          hotel             378           383  \n",
              "4       internet             216           224  "
            ],
            "text/html": [
              "\n",
              "  <div id=\"df-401aebe7-3fcd-4ac5-9e7b-96b4b4764e60\">\n",
              "    <div class=\"colab-df-container\">\n",
              "      <div>\n",
              "<style scoped>\n",
              "    .dataframe tbody tr th:only-of-type {\n",
              "        vertical-align: middle;\n",
              "    }\n",
              "\n",
              "    .dataframe tbody tr th {\n",
              "        vertical-align: top;\n",
              "    }\n",
              "\n",
              "    .dataframe thead th {\n",
              "        text-align: right;\n",
              "    }\n",
              "</style>\n",
              "<table border=\"1\" class=\"dataframe\">\n",
              "  <thead>\n",
              "    <tr style=\"text-align: right;\">\n",
              "      <th></th>\n",
              "      <th>id</th>\n",
              "      <th>review</th>\n",
              "      <th>polarity</th>\n",
              "      <th>aspect</th>\n",
              "      <th>start_position</th>\n",
              "      <th>end_position</th>\n",
              "    </tr>\n",
              "  </thead>\n",
              "  <tbody>\n",
              "    <tr>\n",
              "      <th>0</th>\n",
              "      <td>0</td>\n",
              "      <td>O hotel é perto de todos os pontos principais ...</td>\n",
              "      <td>0</td>\n",
              "      <td>quarto</td>\n",
              "      <td>152</td>\n",
              "      <td>158</td>\n",
              "    </tr>\n",
              "    <tr>\n",
              "      <th>1</th>\n",
              "      <td>1</td>\n",
              "      <td>Viajamos eu e minha irmã. O hotel tem uma extr...</td>\n",
              "      <td>1</td>\n",
              "      <td>elevador</td>\n",
              "      <td>63</td>\n",
              "      <td>71</td>\n",
              "    </tr>\n",
              "    <tr>\n",
              "      <th>2</th>\n",
              "      <td>2</td>\n",
              "      <td>Estive por 8 dias hospedado neste hotel com mi...</td>\n",
              "      <td>1</td>\n",
              "      <td>café da manhã</td>\n",
              "      <td>209</td>\n",
              "      <td>222</td>\n",
              "    </tr>\n",
              "    <tr>\n",
              "      <th>3</th>\n",
              "      <td>3</td>\n",
              "      <td>Adorei a estadia. Porto Alegre foi sensacional...</td>\n",
              "      <td>-1</td>\n",
              "      <td>hotel</td>\n",
              "      <td>378</td>\n",
              "      <td>383</td>\n",
              "    </tr>\n",
              "    <tr>\n",
              "      <th>4</th>\n",
              "      <td>4</td>\n",
              "      <td>O hotel tem ótima localização, fizemos vários ...</td>\n",
              "      <td>1</td>\n",
              "      <td>internet</td>\n",
              "      <td>216</td>\n",
              "      <td>224</td>\n",
              "    </tr>\n",
              "  </tbody>\n",
              "</table>\n",
              "</div>\n",
              "      <button class=\"colab-df-convert\" onclick=\"convertToInteractive('df-401aebe7-3fcd-4ac5-9e7b-96b4b4764e60')\"\n",
              "              title=\"Convert this dataframe to an interactive table.\"\n",
              "              style=\"display:none;\">\n",
              "        \n",
              "  <svg xmlns=\"http://www.w3.org/2000/svg\" height=\"24px\"viewBox=\"0 0 24 24\"\n",
              "       width=\"24px\">\n",
              "    <path d=\"M0 0h24v24H0V0z\" fill=\"none\"/>\n",
              "    <path d=\"M18.56 5.44l.94 2.06.94-2.06 2.06-.94-2.06-.94-.94-2.06-.94 2.06-2.06.94zm-11 1L8.5 8.5l.94-2.06 2.06-.94-2.06-.94L8.5 2.5l-.94 2.06-2.06.94zm10 10l.94 2.06.94-2.06 2.06-.94-2.06-.94-.94-2.06-.94 2.06-2.06.94z\"/><path d=\"M17.41 7.96l-1.37-1.37c-.4-.4-.92-.59-1.43-.59-.52 0-1.04.2-1.43.59L10.3 9.45l-7.72 7.72c-.78.78-.78 2.05 0 2.83L4 21.41c.39.39.9.59 1.41.59.51 0 1.02-.2 1.41-.59l7.78-7.78 2.81-2.81c.8-.78.8-2.07 0-2.86zM5.41 20L4 18.59l7.72-7.72 1.47 1.35L5.41 20z\"/>\n",
              "  </svg>\n",
              "      </button>\n",
              "      \n",
              "  <style>\n",
              "    .colab-df-container {\n",
              "      display:flex;\n",
              "      flex-wrap:wrap;\n",
              "      gap: 12px;\n",
              "    }\n",
              "\n",
              "    .colab-df-convert {\n",
              "      background-color: #E8F0FE;\n",
              "      border: none;\n",
              "      border-radius: 50%;\n",
              "      cursor: pointer;\n",
              "      display: none;\n",
              "      fill: #1967D2;\n",
              "      height: 32px;\n",
              "      padding: 0 0 0 0;\n",
              "      width: 32px;\n",
              "    }\n",
              "\n",
              "    .colab-df-convert:hover {\n",
              "      background-color: #E2EBFA;\n",
              "      box-shadow: 0px 1px 2px rgba(60, 64, 67, 0.3), 0px 1px 3px 1px rgba(60, 64, 67, 0.15);\n",
              "      fill: #174EA6;\n",
              "    }\n",
              "\n",
              "    [theme=dark] .colab-df-convert {\n",
              "      background-color: #3B4455;\n",
              "      fill: #D2E3FC;\n",
              "    }\n",
              "\n",
              "    [theme=dark] .colab-df-convert:hover {\n",
              "      background-color: #434B5C;\n",
              "      box-shadow: 0px 1px 3px 1px rgba(0, 0, 0, 0.15);\n",
              "      filter: drop-shadow(0px 1px 2px rgba(0, 0, 0, 0.3));\n",
              "      fill: #FFFFFF;\n",
              "    }\n",
              "  </style>\n",
              "\n",
              "      <script>\n",
              "        const buttonEl =\n",
              "          document.querySelector('#df-401aebe7-3fcd-4ac5-9e7b-96b4b4764e60 button.colab-df-convert');\n",
              "        buttonEl.style.display =\n",
              "          google.colab.kernel.accessAllowed ? 'block' : 'none';\n",
              "\n",
              "        async function convertToInteractive(key) {\n",
              "          const element = document.querySelector('#df-401aebe7-3fcd-4ac5-9e7b-96b4b4764e60');\n",
              "          const dataTable =\n",
              "            await google.colab.kernel.invokeFunction('convertToInteractive',\n",
              "                                                     [key], {});\n",
              "          if (!dataTable) return;\n",
              "\n",
              "          const docLinkHtml = 'Like what you see? Visit the ' +\n",
              "            '<a target=\"_blank\" href=https://colab.research.google.com/notebooks/data_table.ipynb>data table notebook</a>'\n",
              "            + ' to learn more about interactive tables.';\n",
              "          element.innerHTML = '';\n",
              "          dataTable['output_type'] = 'display_data';\n",
              "          await google.colab.output.renderOutput(dataTable, element);\n",
              "          const docLink = document.createElement('div');\n",
              "          docLink.innerHTML = docLinkHtml;\n",
              "          element.appendChild(docLink);\n",
              "        }\n",
              "      </script>\n",
              "    </div>\n",
              "  </div>\n",
              "  "
            ]
          },
          "metadata": {},
          "execution_count": 7
        }
      ],
      "source": [
        "df = pd.read_csv('/content/train.csv', sep=';')\n",
        "df.head()"
      ]
    },
    {
      "cell_type": "markdown",
      "metadata": {
        "id": "4mQf_2qXW79Y"
      },
      "source": [
        "# GoEmotions"
      ]
    },
    {
      "cell_type": "code",
      "execution_count": 8,
      "metadata": {
        "id": "apRPnRrcRzh2",
        "colab": {
          "base_uri": "https://localhost:8080/"
        },
        "outputId": "7ef4c3fb-53e5-4e8d-feb8-a80ee70606e6"
      },
      "outputs": [
        {
          "output_type": "stream",
          "name": "stderr",
          "text": [
            "/usr/local/lib/python3.7/dist-packages/transformers/pipelines/text_classification.py:90: UserWarning: `return_all_scores` is now deprecated, use `top_k=1` if you want similar functionnality\n",
            "  \"`return_all_scores` is now deprecated, use `top_k=1` if you want similar functionnality\", UserWarning\n"
          ]
        }
      ],
      "source": [
        "#Folder path containing the fine-tuned model files\n",
        "model_path = '/content/drive/MyDrive/IC/Inferencia_carga_afetiva/GoEmotions_portuguese-main/fine_tunel_model'\n",
        "model = BertForSequenceClassification.from_pretrained(model_path)\n",
        "tokenizer = BertTokenizer.from_pretrained(model_path)\n",
        "classifier = pipeline('text-classification', model=model, tokenizer=tokenizer, return_all_scores=True)"
      ]
    },
    {
      "cell_type": "code",
      "source": [
        "def goEmotionsInference(file_name, texts, infer=False):\n",
        "  if infer:\n",
        "    output = classifier(texts)\n",
        "    out_all = str(output)\n",
        "    with open('/content/drive/MyDrive/Shared Task - ABSAPT 2022/go_emotions_output/' + file_name, 'w') as f:\n",
        "      f.write(out_all)\n",
        "  with open('/content/drive/MyDrive/Shared Task - ABSAPT 2022/go_emotions_output/' + file_name) as f:\n",
        "    out_task2_train = f.read()\n",
        "    out_task2_train = literal_eval(out_task2_train)\n",
        "  return out_task2_train"
      ],
      "metadata": {
        "id": "XVonvozs1m5H"
      },
      "execution_count": 9,
      "outputs": []
    },
    {
      "cell_type": "code",
      "source": [
        "# Get the df with the top n predictions\n",
        "\n",
        "def get_predictions(output):\n",
        "  predictions = {}\n",
        "  for id, l in enumerate(output):\n",
        "    predictions[id] = {}\n",
        "    for prediction in l:\n",
        "      predictions[id][prediction['label']] = prediction['score']\n",
        "  return predictions\n",
        "\n",
        "def sort_dic(dic):\n",
        "  sorted_dic = {}\n",
        "  for i in sorted(dic, key=dic.get, reverse=True):\n",
        "    sorted_dic[i] = dic[i]\n",
        "  return {i: sorted_dic[i] for i in list(sorted_dic)}\n",
        "\n",
        "def top_n_predictions(predictions, n):\n",
        "  top_n = {}\n",
        "  for id in predictions:\n",
        "    sorted_dic = sort_dic(predictions[id])\n",
        "    aux_dic = {}\n",
        "    for i, key in enumerate(sorted_dic):\n",
        "      if i < n:\n",
        "        aux_dic[key] = predictions[id][key]\n",
        "      top_n[id] = aux_dic\n",
        "  return top_n\n",
        "\n",
        "def get_result(top_n, df, sentences):\n",
        "  dic_result = dict(df)\n",
        "  dic_result['sentence'] = []\n",
        "  for id in top_n:\n",
        "    dic_result['sentence'].append(sentences[id])\n",
        "    keys = list(top_n[id].keys())\n",
        "    for i, key in enumerate(keys):\n",
        "      n_prediction = 'prediction ' + str(i+1)\n",
        "      n_score = 'score ' + str(i+1)\n",
        "      if n_prediction not in dic_result.keys():\n",
        "        dic_result[n_prediction] = []\n",
        "        dic_result[n_score] = [] \n",
        "      dic_result[n_prediction].append(keys[i])\n",
        "      dic_result[n_score].append(top_n[id][keys[i]])\n",
        "  return dic_result\n",
        "\n",
        "def get_df(df, output, n, sentences):\n",
        "  predictions = get_predictions(output)\n",
        "  top_n = top_n_predictions(predictions, n)\n",
        "  dic_result = get_result(top_n, df, sentences)\n",
        "  df_result = pd.DataFrame(data=dic_result)\n",
        "  return df_result"
      ],
      "metadata": {
        "id": "XGqDmnmENACO"
      },
      "execution_count": 10,
      "outputs": []
    },
    {
      "cell_type": "code",
      "source": [
        "mapping = {\"admiração\": 1,\n",
        "            \"diversão\": 1,\n",
        "            \"raiva\": -1,\n",
        "            \"aborrecimento\": -1,\n",
        "            \"aprovação\": 1,\n",
        "            \"zelo\": 1,\n",
        "            \"confusão\": -1,\n",
        "            \"curiosidade\": 1,\n",
        "            \"desejo\": 1,\n",
        "            \"decepção\": -1,\n",
        "            \"desaprovação\": -1,\n",
        "            \"nojo\": -1,\n",
        "            \"constrangimento\": -1,\n",
        "            \"entusiasmo\": 1,\n",
        "            \"medo\": -1,\n",
        "            \"gratidão\": 1,\n",
        "            \"luto\": -1,\n",
        "            \"alegria\": 1,\n",
        "            \"amor\": 1,\n",
        "            \"nervosismo\": -1,\n",
        "            \"otimismo\": 1,\n",
        "            \"orgulho\": 1,\n",
        "            \"percepção\": 0,\n",
        "            \"alívio\": 1,\n",
        "            \"remorso\": -1,\n",
        "            \"tristeza\": -1,\n",
        "            \"surpresa\": 1,\n",
        "            \"neutro\": 0\n",
        "}"
      ],
      "metadata": {
        "id": "I-PoaGOPe0NY"
      },
      "execution_count": 11,
      "outputs": []
    },
    {
      "cell_type": "code",
      "source": [
        "def map_goEmotions(n, df):\n",
        "  for i in range(n):\n",
        "    df['prediction ' + str(i+1)] = df['prediction ' + str(i+1)].map(mapping)\n",
        "  return df"
      ],
      "metadata": {
        "id": "f0-O5LGi5Hrv"
      },
      "execution_count": 12,
      "outputs": []
    },
    {
      "cell_type": "code",
      "source": [
        "def annull_obl(predictions, obl):\n",
        "  for index in obl:\n",
        "    if index < len(predictions):\n",
        "      predictions[index] = 0\n",
        "  return predictions"
      ],
      "metadata": {
        "id": "veVb4fy1xCiR"
      },
      "execution_count": 13,
      "outputs": []
    },
    {
      "cell_type": "markdown",
      "source": [
        "## 1) By Sentence"
      ],
      "metadata": {
        "id": "kaNH3vgoceEu"
      }
    },
    {
      "cell_type": "code",
      "source": [
        "aspect_sentences = []\n",
        "for i in df.iloc():\n",
        "  doc = nlp(i['review'])\n",
        "  for sentence in doc.sents:\n",
        "    if sentence[0].idx <= i['start_position'] and sentence[-1].idx + len(sentence[-1]) >= i['end_position']:\n",
        "        aspect_sentences.append(sentence.text)"
      ],
      "metadata": {
        "id": "javm2Qlq2eHx"
      },
      "execution_count": 14,
      "outputs": []
    },
    {
      "cell_type": "code",
      "source": [
        "out_task2_train = goEmotionsInference('out_task2_train', aspect_sentences, False)"
      ],
      "metadata": {
        "id": "8DKfuHjC3MAA"
      },
      "execution_count": 15,
      "outputs": []
    },
    {
      "cell_type": "code",
      "source": [
        "n = 3\n",
        "df_top3 = get_df(df, out_task2_train, n, aspect_sentences)\n",
        "df_top3.head()"
      ],
      "metadata": {
        "id": "xd5ANY0MNBmz",
        "colab": {
          "base_uri": "https://localhost:8080/",
          "height": 354
        },
        "outputId": "17cd6c13-9d06-43ee-defe-5de6340f6392"
      },
      "execution_count": 16,
      "outputs": [
        {
          "output_type": "execute_result",
          "data": {
            "text/plain": [
              "   id                                             review  polarity  \\\n",
              "0   0  O hotel é perto de todos os pontos principais ...         0   \n",
              "1   1  Viajamos eu e minha irmã. O hotel tem uma extr...         1   \n",
              "2   2  Estive por 8 dias hospedado neste hotel com mi...         1   \n",
              "3   3  Adorei a estadia. Porto Alegre foi sensacional...        -1   \n",
              "4   4  O hotel tem ótima localização, fizemos vários ...         1   \n",
              "\n",
              "          aspect  start_position  end_position  \\\n",
              "0         quarto             152           158   \n",
              "1       elevador              63            71   \n",
              "2  café da manhã             209           222   \n",
              "3          hotel             378           383   \n",
              "4       internet             216           224   \n",
              "\n",
              "                                            sentence prediction 1   score 1  \\\n",
              "0  O Hotel é charmoso, aconselho ficar nos quarto...    admiração  0.937315   \n",
              "1                     Elevadores modernos e rápidos.       neutro  0.874292   \n",
              "2  Estive por 8 dias hospedado neste hotel com mi...    admiração  0.795297   \n",
              "3  pode fazer umas comprinhas e encontrar produto...       neutro  0.804162   \n",
              "4  O quarto e o banheiro sao espaçosos, novos, li...    admiração  0.885069   \n",
              "\n",
              "  prediction 2   score 2 prediction 3   score 3  \n",
              "0    aprovação  0.026432       neutro  0.009182  \n",
              "1    admiração  0.056796    aprovação  0.030855  \n",
              "2    aprovação  0.139609       neutro  0.016754  \n",
              "3    aprovação  0.095762      alegria  0.014814  \n",
              "4    aprovação  0.070494       neutro  0.014737  "
            ],
            "text/html": [
              "\n",
              "  <div id=\"df-c74f7331-7ce8-4b05-b95a-cf430456471a\">\n",
              "    <div class=\"colab-df-container\">\n",
              "      <div>\n",
              "<style scoped>\n",
              "    .dataframe tbody tr th:only-of-type {\n",
              "        vertical-align: middle;\n",
              "    }\n",
              "\n",
              "    .dataframe tbody tr th {\n",
              "        vertical-align: top;\n",
              "    }\n",
              "\n",
              "    .dataframe thead th {\n",
              "        text-align: right;\n",
              "    }\n",
              "</style>\n",
              "<table border=\"1\" class=\"dataframe\">\n",
              "  <thead>\n",
              "    <tr style=\"text-align: right;\">\n",
              "      <th></th>\n",
              "      <th>id</th>\n",
              "      <th>review</th>\n",
              "      <th>polarity</th>\n",
              "      <th>aspect</th>\n",
              "      <th>start_position</th>\n",
              "      <th>end_position</th>\n",
              "      <th>sentence</th>\n",
              "      <th>prediction 1</th>\n",
              "      <th>score 1</th>\n",
              "      <th>prediction 2</th>\n",
              "      <th>score 2</th>\n",
              "      <th>prediction 3</th>\n",
              "      <th>score 3</th>\n",
              "    </tr>\n",
              "  </thead>\n",
              "  <tbody>\n",
              "    <tr>\n",
              "      <th>0</th>\n",
              "      <td>0</td>\n",
              "      <td>O hotel é perto de todos os pontos principais ...</td>\n",
              "      <td>0</td>\n",
              "      <td>quarto</td>\n",
              "      <td>152</td>\n",
              "      <td>158</td>\n",
              "      <td>O Hotel é charmoso, aconselho ficar nos quarto...</td>\n",
              "      <td>admiração</td>\n",
              "      <td>0.937315</td>\n",
              "      <td>aprovação</td>\n",
              "      <td>0.026432</td>\n",
              "      <td>neutro</td>\n",
              "      <td>0.009182</td>\n",
              "    </tr>\n",
              "    <tr>\n",
              "      <th>1</th>\n",
              "      <td>1</td>\n",
              "      <td>Viajamos eu e minha irmã. O hotel tem uma extr...</td>\n",
              "      <td>1</td>\n",
              "      <td>elevador</td>\n",
              "      <td>63</td>\n",
              "      <td>71</td>\n",
              "      <td>Elevadores modernos e rápidos.</td>\n",
              "      <td>neutro</td>\n",
              "      <td>0.874292</td>\n",
              "      <td>admiração</td>\n",
              "      <td>0.056796</td>\n",
              "      <td>aprovação</td>\n",
              "      <td>0.030855</td>\n",
              "    </tr>\n",
              "    <tr>\n",
              "      <th>2</th>\n",
              "      <td>2</td>\n",
              "      <td>Estive por 8 dias hospedado neste hotel com mi...</td>\n",
              "      <td>1</td>\n",
              "      <td>café da manhã</td>\n",
              "      <td>209</td>\n",
              "      <td>222</td>\n",
              "      <td>Estive por 8 dias hospedado neste hotel com mi...</td>\n",
              "      <td>admiração</td>\n",
              "      <td>0.795297</td>\n",
              "      <td>aprovação</td>\n",
              "      <td>0.139609</td>\n",
              "      <td>neutro</td>\n",
              "      <td>0.016754</td>\n",
              "    </tr>\n",
              "    <tr>\n",
              "      <th>3</th>\n",
              "      <td>3</td>\n",
              "      <td>Adorei a estadia. Porto Alegre foi sensacional...</td>\n",
              "      <td>-1</td>\n",
              "      <td>hotel</td>\n",
              "      <td>378</td>\n",
              "      <td>383</td>\n",
              "      <td>pode fazer umas comprinhas e encontrar produto...</td>\n",
              "      <td>neutro</td>\n",
              "      <td>0.804162</td>\n",
              "      <td>aprovação</td>\n",
              "      <td>0.095762</td>\n",
              "      <td>alegria</td>\n",
              "      <td>0.014814</td>\n",
              "    </tr>\n",
              "    <tr>\n",
              "      <th>4</th>\n",
              "      <td>4</td>\n",
              "      <td>O hotel tem ótima localização, fizemos vários ...</td>\n",
              "      <td>1</td>\n",
              "      <td>internet</td>\n",
              "      <td>216</td>\n",
              "      <td>224</td>\n",
              "      <td>O quarto e o banheiro sao espaçosos, novos, li...</td>\n",
              "      <td>admiração</td>\n",
              "      <td>0.885069</td>\n",
              "      <td>aprovação</td>\n",
              "      <td>0.070494</td>\n",
              "      <td>neutro</td>\n",
              "      <td>0.014737</td>\n",
              "    </tr>\n",
              "  </tbody>\n",
              "</table>\n",
              "</div>\n",
              "      <button class=\"colab-df-convert\" onclick=\"convertToInteractive('df-c74f7331-7ce8-4b05-b95a-cf430456471a')\"\n",
              "              title=\"Convert this dataframe to an interactive table.\"\n",
              "              style=\"display:none;\">\n",
              "        \n",
              "  <svg xmlns=\"http://www.w3.org/2000/svg\" height=\"24px\"viewBox=\"0 0 24 24\"\n",
              "       width=\"24px\">\n",
              "    <path d=\"M0 0h24v24H0V0z\" fill=\"none\"/>\n",
              "    <path d=\"M18.56 5.44l.94 2.06.94-2.06 2.06-.94-2.06-.94-.94-2.06-.94 2.06-2.06.94zm-11 1L8.5 8.5l.94-2.06 2.06-.94-2.06-.94L8.5 2.5l-.94 2.06-2.06.94zm10 10l.94 2.06.94-2.06 2.06-.94-2.06-.94-.94-2.06-.94 2.06-2.06.94z\"/><path d=\"M17.41 7.96l-1.37-1.37c-.4-.4-.92-.59-1.43-.59-.52 0-1.04.2-1.43.59L10.3 9.45l-7.72 7.72c-.78.78-.78 2.05 0 2.83L4 21.41c.39.39.9.59 1.41.59.51 0 1.02-.2 1.41-.59l7.78-7.78 2.81-2.81c.8-.78.8-2.07 0-2.86zM5.41 20L4 18.59l7.72-7.72 1.47 1.35L5.41 20z\"/>\n",
              "  </svg>\n",
              "      </button>\n",
              "      \n",
              "  <style>\n",
              "    .colab-df-container {\n",
              "      display:flex;\n",
              "      flex-wrap:wrap;\n",
              "      gap: 12px;\n",
              "    }\n",
              "\n",
              "    .colab-df-convert {\n",
              "      background-color: #E8F0FE;\n",
              "      border: none;\n",
              "      border-radius: 50%;\n",
              "      cursor: pointer;\n",
              "      display: none;\n",
              "      fill: #1967D2;\n",
              "      height: 32px;\n",
              "      padding: 0 0 0 0;\n",
              "      width: 32px;\n",
              "    }\n",
              "\n",
              "    .colab-df-convert:hover {\n",
              "      background-color: #E2EBFA;\n",
              "      box-shadow: 0px 1px 2px rgba(60, 64, 67, 0.3), 0px 1px 3px 1px rgba(60, 64, 67, 0.15);\n",
              "      fill: #174EA6;\n",
              "    }\n",
              "\n",
              "    [theme=dark] .colab-df-convert {\n",
              "      background-color: #3B4455;\n",
              "      fill: #D2E3FC;\n",
              "    }\n",
              "\n",
              "    [theme=dark] .colab-df-convert:hover {\n",
              "      background-color: #434B5C;\n",
              "      box-shadow: 0px 1px 3px 1px rgba(0, 0, 0, 0.15);\n",
              "      filter: drop-shadow(0px 1px 2px rgba(0, 0, 0, 0.3));\n",
              "      fill: #FFFFFF;\n",
              "    }\n",
              "  </style>\n",
              "\n",
              "      <script>\n",
              "        const buttonEl =\n",
              "          document.querySelector('#df-c74f7331-7ce8-4b05-b95a-cf430456471a button.colab-df-convert');\n",
              "        buttonEl.style.display =\n",
              "          google.colab.kernel.accessAllowed ? 'block' : 'none';\n",
              "\n",
              "        async function convertToInteractive(key) {\n",
              "          const element = document.querySelector('#df-c74f7331-7ce8-4b05-b95a-cf430456471a');\n",
              "          const dataTable =\n",
              "            await google.colab.kernel.invokeFunction('convertToInteractive',\n",
              "                                                     [key], {});\n",
              "          if (!dataTable) return;\n",
              "\n",
              "          const docLinkHtml = 'Like what you see? Visit the ' +\n",
              "            '<a target=\"_blank\" href=https://colab.research.google.com/notebooks/data_table.ipynb>data table notebook</a>'\n",
              "            + ' to learn more about interactive tables.';\n",
              "          element.innerHTML = '';\n",
              "          dataTable['output_type'] = 'display_data';\n",
              "          await google.colab.output.renderOutput(dataTable, element);\n",
              "          const docLink = document.createElement('div');\n",
              "          docLink.innerHTML = docLinkHtml;\n",
              "          element.appendChild(docLink);\n",
              "        }\n",
              "      </script>\n",
              "    </div>\n",
              "  </div>\n",
              "  "
            ]
          },
          "metadata": {},
          "execution_count": 16
        }
      ]
    },
    {
      "cell_type": "code",
      "source": [
        "df_top3 = map_goEmotions(n, df_top3)\n",
        "df_top3.head()"
      ],
      "metadata": {
        "id": "7yrvwH2DO1NB",
        "colab": {
          "base_uri": "https://localhost:8080/",
          "height": 354
        },
        "outputId": "c5983267-9281-4e11-a744-ca85ce190d04"
      },
      "execution_count": 17,
      "outputs": [
        {
          "output_type": "execute_result",
          "data": {
            "text/plain": [
              "   id                                             review  polarity  \\\n",
              "0   0  O hotel é perto de todos os pontos principais ...         0   \n",
              "1   1  Viajamos eu e minha irmã. O hotel tem uma extr...         1   \n",
              "2   2  Estive por 8 dias hospedado neste hotel com mi...         1   \n",
              "3   3  Adorei a estadia. Porto Alegre foi sensacional...        -1   \n",
              "4   4  O hotel tem ótima localização, fizemos vários ...         1   \n",
              "\n",
              "          aspect  start_position  end_position  \\\n",
              "0         quarto             152           158   \n",
              "1       elevador              63            71   \n",
              "2  café da manhã             209           222   \n",
              "3          hotel             378           383   \n",
              "4       internet             216           224   \n",
              "\n",
              "                                            sentence  prediction 1   score 1  \\\n",
              "0  O Hotel é charmoso, aconselho ficar nos quarto...             1  0.937315   \n",
              "1                     Elevadores modernos e rápidos.             0  0.874292   \n",
              "2  Estive por 8 dias hospedado neste hotel com mi...             1  0.795297   \n",
              "3  pode fazer umas comprinhas e encontrar produto...             0  0.804162   \n",
              "4  O quarto e o banheiro sao espaçosos, novos, li...             1  0.885069   \n",
              "\n",
              "   prediction 2   score 2  prediction 3   score 3  \n",
              "0             1  0.026432             0  0.009182  \n",
              "1             1  0.056796             1  0.030855  \n",
              "2             1  0.139609             0  0.016754  \n",
              "3             1  0.095762             1  0.014814  \n",
              "4             1  0.070494             0  0.014737  "
            ],
            "text/html": [
              "\n",
              "  <div id=\"df-0bb3b619-62aa-4d48-a13c-44a2956517c5\">\n",
              "    <div class=\"colab-df-container\">\n",
              "      <div>\n",
              "<style scoped>\n",
              "    .dataframe tbody tr th:only-of-type {\n",
              "        vertical-align: middle;\n",
              "    }\n",
              "\n",
              "    .dataframe tbody tr th {\n",
              "        vertical-align: top;\n",
              "    }\n",
              "\n",
              "    .dataframe thead th {\n",
              "        text-align: right;\n",
              "    }\n",
              "</style>\n",
              "<table border=\"1\" class=\"dataframe\">\n",
              "  <thead>\n",
              "    <tr style=\"text-align: right;\">\n",
              "      <th></th>\n",
              "      <th>id</th>\n",
              "      <th>review</th>\n",
              "      <th>polarity</th>\n",
              "      <th>aspect</th>\n",
              "      <th>start_position</th>\n",
              "      <th>end_position</th>\n",
              "      <th>sentence</th>\n",
              "      <th>prediction 1</th>\n",
              "      <th>score 1</th>\n",
              "      <th>prediction 2</th>\n",
              "      <th>score 2</th>\n",
              "      <th>prediction 3</th>\n",
              "      <th>score 3</th>\n",
              "    </tr>\n",
              "  </thead>\n",
              "  <tbody>\n",
              "    <tr>\n",
              "      <th>0</th>\n",
              "      <td>0</td>\n",
              "      <td>O hotel é perto de todos os pontos principais ...</td>\n",
              "      <td>0</td>\n",
              "      <td>quarto</td>\n",
              "      <td>152</td>\n",
              "      <td>158</td>\n",
              "      <td>O Hotel é charmoso, aconselho ficar nos quarto...</td>\n",
              "      <td>1</td>\n",
              "      <td>0.937315</td>\n",
              "      <td>1</td>\n",
              "      <td>0.026432</td>\n",
              "      <td>0</td>\n",
              "      <td>0.009182</td>\n",
              "    </tr>\n",
              "    <tr>\n",
              "      <th>1</th>\n",
              "      <td>1</td>\n",
              "      <td>Viajamos eu e minha irmã. O hotel tem uma extr...</td>\n",
              "      <td>1</td>\n",
              "      <td>elevador</td>\n",
              "      <td>63</td>\n",
              "      <td>71</td>\n",
              "      <td>Elevadores modernos e rápidos.</td>\n",
              "      <td>0</td>\n",
              "      <td>0.874292</td>\n",
              "      <td>1</td>\n",
              "      <td>0.056796</td>\n",
              "      <td>1</td>\n",
              "      <td>0.030855</td>\n",
              "    </tr>\n",
              "    <tr>\n",
              "      <th>2</th>\n",
              "      <td>2</td>\n",
              "      <td>Estive por 8 dias hospedado neste hotel com mi...</td>\n",
              "      <td>1</td>\n",
              "      <td>café da manhã</td>\n",
              "      <td>209</td>\n",
              "      <td>222</td>\n",
              "      <td>Estive por 8 dias hospedado neste hotel com mi...</td>\n",
              "      <td>1</td>\n",
              "      <td>0.795297</td>\n",
              "      <td>1</td>\n",
              "      <td>0.139609</td>\n",
              "      <td>0</td>\n",
              "      <td>0.016754</td>\n",
              "    </tr>\n",
              "    <tr>\n",
              "      <th>3</th>\n",
              "      <td>3</td>\n",
              "      <td>Adorei a estadia. Porto Alegre foi sensacional...</td>\n",
              "      <td>-1</td>\n",
              "      <td>hotel</td>\n",
              "      <td>378</td>\n",
              "      <td>383</td>\n",
              "      <td>pode fazer umas comprinhas e encontrar produto...</td>\n",
              "      <td>0</td>\n",
              "      <td>0.804162</td>\n",
              "      <td>1</td>\n",
              "      <td>0.095762</td>\n",
              "      <td>1</td>\n",
              "      <td>0.014814</td>\n",
              "    </tr>\n",
              "    <tr>\n",
              "      <th>4</th>\n",
              "      <td>4</td>\n",
              "      <td>O hotel tem ótima localização, fizemos vários ...</td>\n",
              "      <td>1</td>\n",
              "      <td>internet</td>\n",
              "      <td>216</td>\n",
              "      <td>224</td>\n",
              "      <td>O quarto e o banheiro sao espaçosos, novos, li...</td>\n",
              "      <td>1</td>\n",
              "      <td>0.885069</td>\n",
              "      <td>1</td>\n",
              "      <td>0.070494</td>\n",
              "      <td>0</td>\n",
              "      <td>0.014737</td>\n",
              "    </tr>\n",
              "  </tbody>\n",
              "</table>\n",
              "</div>\n",
              "      <button class=\"colab-df-convert\" onclick=\"convertToInteractive('df-0bb3b619-62aa-4d48-a13c-44a2956517c5')\"\n",
              "              title=\"Convert this dataframe to an interactive table.\"\n",
              "              style=\"display:none;\">\n",
              "        \n",
              "  <svg xmlns=\"http://www.w3.org/2000/svg\" height=\"24px\"viewBox=\"0 0 24 24\"\n",
              "       width=\"24px\">\n",
              "    <path d=\"M0 0h24v24H0V0z\" fill=\"none\"/>\n",
              "    <path d=\"M18.56 5.44l.94 2.06.94-2.06 2.06-.94-2.06-.94-.94-2.06-.94 2.06-2.06.94zm-11 1L8.5 8.5l.94-2.06 2.06-.94-2.06-.94L8.5 2.5l-.94 2.06-2.06.94zm10 10l.94 2.06.94-2.06 2.06-.94-2.06-.94-.94-2.06-.94 2.06-2.06.94z\"/><path d=\"M17.41 7.96l-1.37-1.37c-.4-.4-.92-.59-1.43-.59-.52 0-1.04.2-1.43.59L10.3 9.45l-7.72 7.72c-.78.78-.78 2.05 0 2.83L4 21.41c.39.39.9.59 1.41.59.51 0 1.02-.2 1.41-.59l7.78-7.78 2.81-2.81c.8-.78.8-2.07 0-2.86zM5.41 20L4 18.59l7.72-7.72 1.47 1.35L5.41 20z\"/>\n",
              "  </svg>\n",
              "      </button>\n",
              "      \n",
              "  <style>\n",
              "    .colab-df-container {\n",
              "      display:flex;\n",
              "      flex-wrap:wrap;\n",
              "      gap: 12px;\n",
              "    }\n",
              "\n",
              "    .colab-df-convert {\n",
              "      background-color: #E8F0FE;\n",
              "      border: none;\n",
              "      border-radius: 50%;\n",
              "      cursor: pointer;\n",
              "      display: none;\n",
              "      fill: #1967D2;\n",
              "      height: 32px;\n",
              "      padding: 0 0 0 0;\n",
              "      width: 32px;\n",
              "    }\n",
              "\n",
              "    .colab-df-convert:hover {\n",
              "      background-color: #E2EBFA;\n",
              "      box-shadow: 0px 1px 2px rgba(60, 64, 67, 0.3), 0px 1px 3px 1px rgba(60, 64, 67, 0.15);\n",
              "      fill: #174EA6;\n",
              "    }\n",
              "\n",
              "    [theme=dark] .colab-df-convert {\n",
              "      background-color: #3B4455;\n",
              "      fill: #D2E3FC;\n",
              "    }\n",
              "\n",
              "    [theme=dark] .colab-df-convert:hover {\n",
              "      background-color: #434B5C;\n",
              "      box-shadow: 0px 1px 3px 1px rgba(0, 0, 0, 0.15);\n",
              "      filter: drop-shadow(0px 1px 2px rgba(0, 0, 0, 0.3));\n",
              "      fill: #FFFFFF;\n",
              "    }\n",
              "  </style>\n",
              "\n",
              "      <script>\n",
              "        const buttonEl =\n",
              "          document.querySelector('#df-0bb3b619-62aa-4d48-a13c-44a2956517c5 button.colab-df-convert');\n",
              "        buttonEl.style.display =\n",
              "          google.colab.kernel.accessAllowed ? 'block' : 'none';\n",
              "\n",
              "        async function convertToInteractive(key) {\n",
              "          const element = document.querySelector('#df-0bb3b619-62aa-4d48-a13c-44a2956517c5');\n",
              "          const dataTable =\n",
              "            await google.colab.kernel.invokeFunction('convertToInteractive',\n",
              "                                                     [key], {});\n",
              "          if (!dataTable) return;\n",
              "\n",
              "          const docLinkHtml = 'Like what you see? Visit the ' +\n",
              "            '<a target=\"_blank\" href=https://colab.research.google.com/notebooks/data_table.ipynb>data table notebook</a>'\n",
              "            + ' to learn more about interactive tables.';\n",
              "          element.innerHTML = '';\n",
              "          dataTable['output_type'] = 'display_data';\n",
              "          await google.colab.output.renderOutput(dataTable, element);\n",
              "          const docLink = document.createElement('div');\n",
              "          docLink.innerHTML = docLinkHtml;\n",
              "          element.appendChild(docLink);\n",
              "        }\n",
              "      </script>\n",
              "    </div>\n",
              "  </div>\n",
              "  "
            ]
          },
          "metadata": {},
          "execution_count": 17
        }
      ]
    },
    {
      "cell_type": "markdown",
      "source": [
        "### Prediction 1"
      ],
      "metadata": {
        "id": "8wXddgwOZf-S"
      }
    },
    {
      "cell_type": "code",
      "source": [
        "prediction = list(df_top3['prediction 1'])\n",
        "true = list(df_top3['polarity'])\n",
        "print(classification_report(true, prediction))\n",
        "print(balanced_accuracy_score(true, prediction))"
      ],
      "metadata": {
        "id": "Lvp887EyWv-n",
        "colab": {
          "base_uri": "https://localhost:8080/"
        },
        "outputId": "0fce9923-44a9-4e9b-ff5d-4c4a19a0ef7c"
      },
      "execution_count": 18,
      "outputs": [
        {
          "output_type": "stream",
          "name": "stdout",
          "text": [
            "              precision    recall  f1-score   support\n",
            "\n",
            "          -1       0.73      0.46      0.57       527\n",
            "           0       0.28      0.45      0.35       472\n",
            "           1       0.86      0.83      0.85      2112\n",
            "\n",
            "    accuracy                           0.71      3111\n",
            "   macro avg       0.62      0.58      0.59      3111\n",
            "weighted avg       0.75      0.71      0.72      3111\n",
            "\n",
            "0.5808073194070444\n"
          ]
        }
      ]
    },
    {
      "cell_type": "markdown",
      "source": [
        "#### Annull OBL Aspects"
      ],
      "metadata": {
        "id": "YbGqZs3B1qT9"
      }
    },
    {
      "cell_type": "code",
      "source": [
        "obl_index = []\n",
        "for index, i in enumerate(df.iloc()):\n",
        "  doc = nlp(i['review'])\n",
        "  for token in doc:\n",
        "    if token.idx == i['start_position'] and token.dep_ == 'obl':\n",
        "        obl_index.append(index)"
      ],
      "metadata": {
        "id": "7vvgpxehR2Us"
      },
      "execution_count": 19,
      "outputs": []
    },
    {
      "cell_type": "code",
      "source": [
        "prediction = annull_obl(prediction, obl_index)\n",
        "print(classification_report(true, prediction))\n",
        "print(balanced_accuracy_score(true, prediction))"
      ],
      "metadata": {
        "id": "Xu7TQPg-1OOn",
        "colab": {
          "base_uri": "https://localhost:8080/"
        },
        "outputId": "59e08329-4500-48cb-a41a-29f88e3a4498"
      },
      "execution_count": 20,
      "outputs": [
        {
          "output_type": "stream",
          "name": "stdout",
          "text": [
            "              precision    recall  f1-score   support\n",
            "\n",
            "          -1       0.75      0.41      0.53       527\n",
            "           0       0.28      0.59      0.38       472\n",
            "           1       0.88      0.77      0.82      2112\n",
            "\n",
            "    accuracy                           0.68      3111\n",
            "   macro avg       0.64      0.59      0.58      3111\n",
            "weighted avg       0.77      0.68      0.71      3111\n",
            "\n",
            "0.5890200549378258\n"
          ]
        }
      ]
    },
    {
      "cell_type": "markdown",
      "source": [
        "### Top 3 without treshold"
      ],
      "metadata": {
        "id": "iIQjAh6Xdv_m"
      }
    },
    {
      "cell_type": "code",
      "source": [
        "def get_top3(df):\n",
        "  prediction = []\n",
        "  for i in df.iloc():\n",
        "    if i['prediction 1'] == i['prediction 2'] or i['prediction 1'] == i['prediction 3']:\n",
        "      prediction.append(i['prediction 1'])\n",
        "    elif i['prediction 2'] == i['prediction 3']:\n",
        "      prediction.append(i['prediction 2'])\n",
        "    else:\n",
        "      prediction.append(i['prediction 1'])\n",
        "  return prediction"
      ],
      "metadata": {
        "id": "bzNm2_H7Motl"
      },
      "execution_count": 21,
      "outputs": []
    },
    {
      "cell_type": "code",
      "source": [
        "prediction = get_top3(df_top3)\n",
        "true = list(df_top3['polarity'])\n",
        "print(classification_report(true, prediction))\n",
        "print(balanced_accuracy_score(true, prediction))"
      ],
      "metadata": {
        "id": "JKLelw72ZklW",
        "colab": {
          "base_uri": "https://localhost:8080/"
        },
        "outputId": "50bd7d24-58c5-4b91-9fd8-c10a33f31a1e"
      },
      "execution_count": 22,
      "outputs": [
        {
          "output_type": "stream",
          "name": "stdout",
          "text": [
            "              precision    recall  f1-score   support\n",
            "\n",
            "          -1       0.69      0.66      0.68       527\n",
            "           0       0.34      0.21      0.26       472\n",
            "           1       0.83      0.92      0.87      2112\n",
            "\n",
            "    accuracy                           0.77      3111\n",
            "   macro avg       0.62      0.59      0.60      3111\n",
            "weighted avg       0.73      0.77      0.75      3111\n",
            "\n",
            "0.5948047434756661\n"
          ]
        }
      ]
    },
    {
      "cell_type": "markdown",
      "source": [
        "#### Annull OBL Aspects"
      ],
      "metadata": {
        "id": "Xd1i0_ow2KY0"
      }
    },
    {
      "cell_type": "code",
      "source": [
        "prediction = annull_obl(prediction, obl_index)\n",
        "print(classification_report(true, prediction))\n",
        "print(balanced_accuracy_score(true, prediction))"
      ],
      "metadata": {
        "id": "2tsixm462KY9",
        "colab": {
          "base_uri": "https://localhost:8080/"
        },
        "outputId": "4e97f41e-8142-40a0-b250-45765cf637c8"
      },
      "execution_count": 23,
      "outputs": [
        {
          "output_type": "stream",
          "name": "stdout",
          "text": [
            "              precision    recall  f1-score   support\n",
            "\n",
            "          -1       0.72      0.58      0.64       527\n",
            "           0       0.32      0.40      0.36       472\n",
            "           1       0.85      0.85      0.85      2112\n",
            "\n",
            "    accuracy                           0.73      3111\n",
            "   macro avg       0.63      0.61      0.62      3111\n",
            "weighted avg       0.75      0.73      0.74      3111\n",
            "\n",
            "0.6098408251540589\n"
          ]
        }
      ]
    },
    {
      "cell_type": "markdown",
      "source": [
        "### top 3 with treshold"
      ],
      "metadata": {
        "id": "CqNBF_VGYs-S"
      }
    },
    {
      "cell_type": "code",
      "source": [
        "def get_top3_t(df, t):\n",
        "  prediction = []\n",
        "  for i in df.iloc():\n",
        "    if i['score 1'] >= t:\n",
        "      prediction.append(i['prediction 1'])\n",
        "    else:\n",
        "      if i['prediction 1'] == i['prediction 2'] or i['prediction 1'] == i['prediction 3']:\n",
        "        prediction.append(i['prediction 1'])\n",
        "      elif i['prediction 2'] == i['prediction 3']:\n",
        "        prediction.append(i['prediction 2'])\n",
        "      else:\n",
        "        prediction.append(i['prediction 1'])\n",
        "  return prediction"
      ],
      "metadata": {
        "id": "o3q3AkvrNNEM"
      },
      "execution_count": 24,
      "outputs": []
    },
    {
      "cell_type": "code",
      "source": [
        "prediction = get_top3_t(df_top3, 0.9)\n",
        "true = list(df_top3['polarity'])\n",
        "print(classification_report(true, prediction))\n",
        "print(balanced_accuracy_score(true, prediction))"
      ],
      "metadata": {
        "id": "9pKeSzuycVA4",
        "colab": {
          "base_uri": "https://localhost:8080/"
        },
        "outputId": "4b7ab7b3-089b-4a36-fcd9-065f9c74e488"
      },
      "execution_count": 25,
      "outputs": [
        {
          "output_type": "stream",
          "name": "stdout",
          "text": [
            "              precision    recall  f1-score   support\n",
            "\n",
            "          -1       0.69      0.64      0.67       527\n",
            "           0       0.31      0.25      0.27       472\n",
            "           1       0.84      0.89      0.87      2112\n",
            "\n",
            "    accuracy                           0.75      3111\n",
            "   macro avg       0.62      0.59      0.60      3111\n",
            "weighted avg       0.73      0.75      0.74      3111\n",
            "\n",
            "0.5944797825893451\n"
          ]
        }
      ]
    },
    {
      "cell_type": "markdown",
      "source": [
        "#### Anull OBL Aspects"
      ],
      "metadata": {
        "id": "PYQY7byj2UKS"
      }
    },
    {
      "cell_type": "code",
      "source": [
        "prediction = annull_obl(prediction, obl_index)\n",
        "print(classification_report(true, prediction))\n",
        "print(balanced_accuracy_score(true, prediction))"
      ],
      "metadata": {
        "id": "vgSeFdpL2UKU",
        "colab": {
          "base_uri": "https://localhost:8080/"
        },
        "outputId": "3be6c06d-d0f0-4d86-a14e-42383dca3321"
      },
      "execution_count": 26,
      "outputs": [
        {
          "output_type": "stream",
          "name": "stdout",
          "text": [
            "              precision    recall  f1-score   support\n",
            "\n",
            "          -1       0.72      0.56      0.63       527\n",
            "           0       0.31      0.44      0.36       472\n",
            "           1       0.86      0.83      0.84      2112\n",
            "\n",
            "    accuracy                           0.72      3111\n",
            "   macro avg       0.63      0.61      0.61      3111\n",
            "weighted avg       0.75      0.72      0.73      3111\n",
            "\n",
            "0.607006662076332\n"
          ]
        }
      ]
    },
    {
      "cell_type": "markdown",
      "source": [
        "## 2) By Meaningful Surroundings"
      ],
      "metadata": {
        "id": "rdzrkaaPfrvM"
      }
    },
    {
      "cell_type": "code",
      "source": [
        "def get_surroundings(index, review):\n",
        "  doc = nlp(review)\n",
        "  for token in doc:\n",
        "    surroundings = [' ']\n",
        "    if token.idx == index:\n",
        "      surroundings = {}\n",
        "      surroundings[token.idx] = token.text\n",
        "      surroundings[token.head.idx] = token.head.text\n",
        "      for child in token.children:\n",
        "        surroundings[child.idx] = child.text\n",
        "        for c in child.children:\n",
        "          surroundings[c.idx] = c.text\n",
        "      for child in token.head.children:\n",
        "        surroundings[child.idx] = child.text\n",
        "        for c in child.children:\n",
        "          surroundings[c.idx] = c.text\n",
        "      surroundings = dict(sorted(surroundings.items()))\n",
        "      s = [surroundings[i] for i in surroundings]\n",
        "      return ' '.join(s)\n",
        "  return ' '.join(surroundings)"
      ],
      "metadata": {
        "id": "mRDxzuRnWCYu"
      },
      "execution_count": 27,
      "outputs": []
    },
    {
      "cell_type": "code",
      "source": [
        "aspect_surroundings = []\n",
        "for i in df.iloc():\n",
        "    aspect_surroundings.append(get_surroundings(i['start_position'], i['review']))"
      ],
      "metadata": {
        "id": "Y3awRRzptFlc"
      },
      "execution_count": 28,
      "outputs": []
    },
    {
      "cell_type": "code",
      "source": [
        "out_task2_train_surroundings1 = goEmotionsInference('out_task2_train_surroundings1', aspect_surroundings, False)"
      ],
      "metadata": {
        "id": "kaVuG9HOuZGp"
      },
      "execution_count": 29,
      "outputs": []
    },
    {
      "cell_type": "code",
      "source": [
        "n = 3\n",
        "df_top3_s = get_df(df, out_task2_train_surroundings1, n, aspect_surroundings)\n",
        "df_top3_s.head()"
      ],
      "metadata": {
        "id": "pwR8jmMLuPPO",
        "colab": {
          "base_uri": "https://localhost:8080/",
          "height": 354
        },
        "outputId": "5b8c00c6-b401-42db-9e00-213b479ae33f"
      },
      "execution_count": 30,
      "outputs": [
        {
          "output_type": "execute_result",
          "data": {
            "text/plain": [
              "   id                                             review  polarity  \\\n",
              "0   0  O hotel é perto de todos os pontos principais ...         0   \n",
              "1   1  Viajamos eu e minha irmã. O hotel tem uma extr...         1   \n",
              "2   2  Estive por 8 dias hospedado neste hotel com mi...         1   \n",
              "3   3  Adorei a estadia. Porto Alegre foi sensacional...        -1   \n",
              "4   4  O hotel tem ótima localização, fizemos vários ...         1   \n",
              "\n",
              "          aspect  start_position  end_position  \\\n",
              "0         quarto             152           158   \n",
              "1       elevador              63            71   \n",
              "2  café da manhã             209           222   \n",
              "3          hotel             378           383   \n",
              "4       internet             216           224   \n",
              "\n",
              "                                            sentence prediction 1   score 1  \\\n",
              "0                 ficar nos quartos no piso superior       neutro  0.978858   \n",
              "1                      Elevadores modernos rápidos .       neutro  0.970849   \n",
              "2  que oferecem um café da manhã aos moldes hotéi...       neutro  0.961744   \n",
              "3                      e a estrutura física do hotel       neutro  0.975867   \n",
              "4                    e a internet funciona muito bem    admiração  0.736319   \n",
              "\n",
              "  prediction 2   score 2   prediction 3   score 3  \n",
              "0    aprovação  0.004660  aborrecimento  0.002076  \n",
              "1    aprovação  0.006281      admiração  0.004747  \n",
              "2    aprovação  0.013310      percepção  0.004343  \n",
              "3    aprovação  0.005421    curiosidade  0.002424  \n",
              "4    aprovação  0.163721         neutro  0.046386  "
            ],
            "text/html": [
              "\n",
              "  <div id=\"df-53f69300-748a-439b-a6b4-fdb404d6f13c\">\n",
              "    <div class=\"colab-df-container\">\n",
              "      <div>\n",
              "<style scoped>\n",
              "    .dataframe tbody tr th:only-of-type {\n",
              "        vertical-align: middle;\n",
              "    }\n",
              "\n",
              "    .dataframe tbody tr th {\n",
              "        vertical-align: top;\n",
              "    }\n",
              "\n",
              "    .dataframe thead th {\n",
              "        text-align: right;\n",
              "    }\n",
              "</style>\n",
              "<table border=\"1\" class=\"dataframe\">\n",
              "  <thead>\n",
              "    <tr style=\"text-align: right;\">\n",
              "      <th></th>\n",
              "      <th>id</th>\n",
              "      <th>review</th>\n",
              "      <th>polarity</th>\n",
              "      <th>aspect</th>\n",
              "      <th>start_position</th>\n",
              "      <th>end_position</th>\n",
              "      <th>sentence</th>\n",
              "      <th>prediction 1</th>\n",
              "      <th>score 1</th>\n",
              "      <th>prediction 2</th>\n",
              "      <th>score 2</th>\n",
              "      <th>prediction 3</th>\n",
              "      <th>score 3</th>\n",
              "    </tr>\n",
              "  </thead>\n",
              "  <tbody>\n",
              "    <tr>\n",
              "      <th>0</th>\n",
              "      <td>0</td>\n",
              "      <td>O hotel é perto de todos os pontos principais ...</td>\n",
              "      <td>0</td>\n",
              "      <td>quarto</td>\n",
              "      <td>152</td>\n",
              "      <td>158</td>\n",
              "      <td>ficar nos quartos no piso superior</td>\n",
              "      <td>neutro</td>\n",
              "      <td>0.978858</td>\n",
              "      <td>aprovação</td>\n",
              "      <td>0.004660</td>\n",
              "      <td>aborrecimento</td>\n",
              "      <td>0.002076</td>\n",
              "    </tr>\n",
              "    <tr>\n",
              "      <th>1</th>\n",
              "      <td>1</td>\n",
              "      <td>Viajamos eu e minha irmã. O hotel tem uma extr...</td>\n",
              "      <td>1</td>\n",
              "      <td>elevador</td>\n",
              "      <td>63</td>\n",
              "      <td>71</td>\n",
              "      <td>Elevadores modernos rápidos .</td>\n",
              "      <td>neutro</td>\n",
              "      <td>0.970849</td>\n",
              "      <td>aprovação</td>\n",
              "      <td>0.006281</td>\n",
              "      <td>admiração</td>\n",
              "      <td>0.004747</td>\n",
              "    </tr>\n",
              "    <tr>\n",
              "      <th>2</th>\n",
              "      <td>2</td>\n",
              "      <td>Estive por 8 dias hospedado neste hotel com mi...</td>\n",
              "      <td>1</td>\n",
              "      <td>café da manhã</td>\n",
              "      <td>209</td>\n",
              "      <td>222</td>\n",
              "      <td>que oferecem um café da manhã aos moldes hotéi...</td>\n",
              "      <td>neutro</td>\n",
              "      <td>0.961744</td>\n",
              "      <td>aprovação</td>\n",
              "      <td>0.013310</td>\n",
              "      <td>percepção</td>\n",
              "      <td>0.004343</td>\n",
              "    </tr>\n",
              "    <tr>\n",
              "      <th>3</th>\n",
              "      <td>3</td>\n",
              "      <td>Adorei a estadia. Porto Alegre foi sensacional...</td>\n",
              "      <td>-1</td>\n",
              "      <td>hotel</td>\n",
              "      <td>378</td>\n",
              "      <td>383</td>\n",
              "      <td>e a estrutura física do hotel</td>\n",
              "      <td>neutro</td>\n",
              "      <td>0.975867</td>\n",
              "      <td>aprovação</td>\n",
              "      <td>0.005421</td>\n",
              "      <td>curiosidade</td>\n",
              "      <td>0.002424</td>\n",
              "    </tr>\n",
              "    <tr>\n",
              "      <th>4</th>\n",
              "      <td>4</td>\n",
              "      <td>O hotel tem ótima localização, fizemos vários ...</td>\n",
              "      <td>1</td>\n",
              "      <td>internet</td>\n",
              "      <td>216</td>\n",
              "      <td>224</td>\n",
              "      <td>e a internet funciona muito bem</td>\n",
              "      <td>admiração</td>\n",
              "      <td>0.736319</td>\n",
              "      <td>aprovação</td>\n",
              "      <td>0.163721</td>\n",
              "      <td>neutro</td>\n",
              "      <td>0.046386</td>\n",
              "    </tr>\n",
              "  </tbody>\n",
              "</table>\n",
              "</div>\n",
              "      <button class=\"colab-df-convert\" onclick=\"convertToInteractive('df-53f69300-748a-439b-a6b4-fdb404d6f13c')\"\n",
              "              title=\"Convert this dataframe to an interactive table.\"\n",
              "              style=\"display:none;\">\n",
              "        \n",
              "  <svg xmlns=\"http://www.w3.org/2000/svg\" height=\"24px\"viewBox=\"0 0 24 24\"\n",
              "       width=\"24px\">\n",
              "    <path d=\"M0 0h24v24H0V0z\" fill=\"none\"/>\n",
              "    <path d=\"M18.56 5.44l.94 2.06.94-2.06 2.06-.94-2.06-.94-.94-2.06-.94 2.06-2.06.94zm-11 1L8.5 8.5l.94-2.06 2.06-.94-2.06-.94L8.5 2.5l-.94 2.06-2.06.94zm10 10l.94 2.06.94-2.06 2.06-.94-2.06-.94-.94-2.06-.94 2.06-2.06.94z\"/><path d=\"M17.41 7.96l-1.37-1.37c-.4-.4-.92-.59-1.43-.59-.52 0-1.04.2-1.43.59L10.3 9.45l-7.72 7.72c-.78.78-.78 2.05 0 2.83L4 21.41c.39.39.9.59 1.41.59.51 0 1.02-.2 1.41-.59l7.78-7.78 2.81-2.81c.8-.78.8-2.07 0-2.86zM5.41 20L4 18.59l7.72-7.72 1.47 1.35L5.41 20z\"/>\n",
              "  </svg>\n",
              "      </button>\n",
              "      \n",
              "  <style>\n",
              "    .colab-df-container {\n",
              "      display:flex;\n",
              "      flex-wrap:wrap;\n",
              "      gap: 12px;\n",
              "    }\n",
              "\n",
              "    .colab-df-convert {\n",
              "      background-color: #E8F0FE;\n",
              "      border: none;\n",
              "      border-radius: 50%;\n",
              "      cursor: pointer;\n",
              "      display: none;\n",
              "      fill: #1967D2;\n",
              "      height: 32px;\n",
              "      padding: 0 0 0 0;\n",
              "      width: 32px;\n",
              "    }\n",
              "\n",
              "    .colab-df-convert:hover {\n",
              "      background-color: #E2EBFA;\n",
              "      box-shadow: 0px 1px 2px rgba(60, 64, 67, 0.3), 0px 1px 3px 1px rgba(60, 64, 67, 0.15);\n",
              "      fill: #174EA6;\n",
              "    }\n",
              "\n",
              "    [theme=dark] .colab-df-convert {\n",
              "      background-color: #3B4455;\n",
              "      fill: #D2E3FC;\n",
              "    }\n",
              "\n",
              "    [theme=dark] .colab-df-convert:hover {\n",
              "      background-color: #434B5C;\n",
              "      box-shadow: 0px 1px 3px 1px rgba(0, 0, 0, 0.15);\n",
              "      filter: drop-shadow(0px 1px 2px rgba(0, 0, 0, 0.3));\n",
              "      fill: #FFFFFF;\n",
              "    }\n",
              "  </style>\n",
              "\n",
              "      <script>\n",
              "        const buttonEl =\n",
              "          document.querySelector('#df-53f69300-748a-439b-a6b4-fdb404d6f13c button.colab-df-convert');\n",
              "        buttonEl.style.display =\n",
              "          google.colab.kernel.accessAllowed ? 'block' : 'none';\n",
              "\n",
              "        async function convertToInteractive(key) {\n",
              "          const element = document.querySelector('#df-53f69300-748a-439b-a6b4-fdb404d6f13c');\n",
              "          const dataTable =\n",
              "            await google.colab.kernel.invokeFunction('convertToInteractive',\n",
              "                                                     [key], {});\n",
              "          if (!dataTable) return;\n",
              "\n",
              "          const docLinkHtml = 'Like what you see? Visit the ' +\n",
              "            '<a target=\"_blank\" href=https://colab.research.google.com/notebooks/data_table.ipynb>data table notebook</a>'\n",
              "            + ' to learn more about interactive tables.';\n",
              "          element.innerHTML = '';\n",
              "          dataTable['output_type'] = 'display_data';\n",
              "          await google.colab.output.renderOutput(dataTable, element);\n",
              "          const docLink = document.createElement('div');\n",
              "          docLink.innerHTML = docLinkHtml;\n",
              "          element.appendChild(docLink);\n",
              "        }\n",
              "      </script>\n",
              "    </div>\n",
              "  </div>\n",
              "  "
            ]
          },
          "metadata": {},
          "execution_count": 30
        }
      ]
    },
    {
      "cell_type": "code",
      "source": [
        "df_top3 = map_goEmotions(n, df_top3_s)\n",
        "df_top3.head()"
      ],
      "metadata": {
        "id": "N48dnbw3uPPP",
        "colab": {
          "base_uri": "https://localhost:8080/",
          "height": 354
        },
        "outputId": "79cb2aa9-3875-4177-b05a-f139389e330b"
      },
      "execution_count": 31,
      "outputs": [
        {
          "output_type": "execute_result",
          "data": {
            "text/plain": [
              "   id                                             review  polarity  \\\n",
              "0   0  O hotel é perto de todos os pontos principais ...         0   \n",
              "1   1  Viajamos eu e minha irmã. O hotel tem uma extr...         1   \n",
              "2   2  Estive por 8 dias hospedado neste hotel com mi...         1   \n",
              "3   3  Adorei a estadia. Porto Alegre foi sensacional...        -1   \n",
              "4   4  O hotel tem ótima localização, fizemos vários ...         1   \n",
              "\n",
              "          aspect  start_position  end_position  \\\n",
              "0         quarto             152           158   \n",
              "1       elevador              63            71   \n",
              "2  café da manhã             209           222   \n",
              "3          hotel             378           383   \n",
              "4       internet             216           224   \n",
              "\n",
              "                                            sentence  prediction 1   score 1  \\\n",
              "0                 ficar nos quartos no piso superior             0  0.978858   \n",
              "1                      Elevadores modernos rápidos .             0  0.970849   \n",
              "2  que oferecem um café da manhã aos moldes hotéi...             0  0.961744   \n",
              "3                      e a estrutura física do hotel             0  0.975867   \n",
              "4                    e a internet funciona muito bem             1  0.736319   \n",
              "\n",
              "   prediction 2   score 2  prediction 3   score 3  \n",
              "0             1  0.004660            -1  0.002076  \n",
              "1             1  0.006281             1  0.004747  \n",
              "2             1  0.013310             0  0.004343  \n",
              "3             1  0.005421             1  0.002424  \n",
              "4             1  0.163721             0  0.046386  "
            ],
            "text/html": [
              "\n",
              "  <div id=\"df-cb26fd17-3cae-4e53-a353-6a7438b0c0ea\">\n",
              "    <div class=\"colab-df-container\">\n",
              "      <div>\n",
              "<style scoped>\n",
              "    .dataframe tbody tr th:only-of-type {\n",
              "        vertical-align: middle;\n",
              "    }\n",
              "\n",
              "    .dataframe tbody tr th {\n",
              "        vertical-align: top;\n",
              "    }\n",
              "\n",
              "    .dataframe thead th {\n",
              "        text-align: right;\n",
              "    }\n",
              "</style>\n",
              "<table border=\"1\" class=\"dataframe\">\n",
              "  <thead>\n",
              "    <tr style=\"text-align: right;\">\n",
              "      <th></th>\n",
              "      <th>id</th>\n",
              "      <th>review</th>\n",
              "      <th>polarity</th>\n",
              "      <th>aspect</th>\n",
              "      <th>start_position</th>\n",
              "      <th>end_position</th>\n",
              "      <th>sentence</th>\n",
              "      <th>prediction 1</th>\n",
              "      <th>score 1</th>\n",
              "      <th>prediction 2</th>\n",
              "      <th>score 2</th>\n",
              "      <th>prediction 3</th>\n",
              "      <th>score 3</th>\n",
              "    </tr>\n",
              "  </thead>\n",
              "  <tbody>\n",
              "    <tr>\n",
              "      <th>0</th>\n",
              "      <td>0</td>\n",
              "      <td>O hotel é perto de todos os pontos principais ...</td>\n",
              "      <td>0</td>\n",
              "      <td>quarto</td>\n",
              "      <td>152</td>\n",
              "      <td>158</td>\n",
              "      <td>ficar nos quartos no piso superior</td>\n",
              "      <td>0</td>\n",
              "      <td>0.978858</td>\n",
              "      <td>1</td>\n",
              "      <td>0.004660</td>\n",
              "      <td>-1</td>\n",
              "      <td>0.002076</td>\n",
              "    </tr>\n",
              "    <tr>\n",
              "      <th>1</th>\n",
              "      <td>1</td>\n",
              "      <td>Viajamos eu e minha irmã. O hotel tem uma extr...</td>\n",
              "      <td>1</td>\n",
              "      <td>elevador</td>\n",
              "      <td>63</td>\n",
              "      <td>71</td>\n",
              "      <td>Elevadores modernos rápidos .</td>\n",
              "      <td>0</td>\n",
              "      <td>0.970849</td>\n",
              "      <td>1</td>\n",
              "      <td>0.006281</td>\n",
              "      <td>1</td>\n",
              "      <td>0.004747</td>\n",
              "    </tr>\n",
              "    <tr>\n",
              "      <th>2</th>\n",
              "      <td>2</td>\n",
              "      <td>Estive por 8 dias hospedado neste hotel com mi...</td>\n",
              "      <td>1</td>\n",
              "      <td>café da manhã</td>\n",
              "      <td>209</td>\n",
              "      <td>222</td>\n",
              "      <td>que oferecem um café da manhã aos moldes hotéi...</td>\n",
              "      <td>0</td>\n",
              "      <td>0.961744</td>\n",
              "      <td>1</td>\n",
              "      <td>0.013310</td>\n",
              "      <td>0</td>\n",
              "      <td>0.004343</td>\n",
              "    </tr>\n",
              "    <tr>\n",
              "      <th>3</th>\n",
              "      <td>3</td>\n",
              "      <td>Adorei a estadia. Porto Alegre foi sensacional...</td>\n",
              "      <td>-1</td>\n",
              "      <td>hotel</td>\n",
              "      <td>378</td>\n",
              "      <td>383</td>\n",
              "      <td>e a estrutura física do hotel</td>\n",
              "      <td>0</td>\n",
              "      <td>0.975867</td>\n",
              "      <td>1</td>\n",
              "      <td>0.005421</td>\n",
              "      <td>1</td>\n",
              "      <td>0.002424</td>\n",
              "    </tr>\n",
              "    <tr>\n",
              "      <th>4</th>\n",
              "      <td>4</td>\n",
              "      <td>O hotel tem ótima localização, fizemos vários ...</td>\n",
              "      <td>1</td>\n",
              "      <td>internet</td>\n",
              "      <td>216</td>\n",
              "      <td>224</td>\n",
              "      <td>e a internet funciona muito bem</td>\n",
              "      <td>1</td>\n",
              "      <td>0.736319</td>\n",
              "      <td>1</td>\n",
              "      <td>0.163721</td>\n",
              "      <td>0</td>\n",
              "      <td>0.046386</td>\n",
              "    </tr>\n",
              "  </tbody>\n",
              "</table>\n",
              "</div>\n",
              "      <button class=\"colab-df-convert\" onclick=\"convertToInteractive('df-cb26fd17-3cae-4e53-a353-6a7438b0c0ea')\"\n",
              "              title=\"Convert this dataframe to an interactive table.\"\n",
              "              style=\"display:none;\">\n",
              "        \n",
              "  <svg xmlns=\"http://www.w3.org/2000/svg\" height=\"24px\"viewBox=\"0 0 24 24\"\n",
              "       width=\"24px\">\n",
              "    <path d=\"M0 0h24v24H0V0z\" fill=\"none\"/>\n",
              "    <path d=\"M18.56 5.44l.94 2.06.94-2.06 2.06-.94-2.06-.94-.94-2.06-.94 2.06-2.06.94zm-11 1L8.5 8.5l.94-2.06 2.06-.94-2.06-.94L8.5 2.5l-.94 2.06-2.06.94zm10 10l.94 2.06.94-2.06 2.06-.94-2.06-.94-.94-2.06-.94 2.06-2.06.94z\"/><path d=\"M17.41 7.96l-1.37-1.37c-.4-.4-.92-.59-1.43-.59-.52 0-1.04.2-1.43.59L10.3 9.45l-7.72 7.72c-.78.78-.78 2.05 0 2.83L4 21.41c.39.39.9.59 1.41.59.51 0 1.02-.2 1.41-.59l7.78-7.78 2.81-2.81c.8-.78.8-2.07 0-2.86zM5.41 20L4 18.59l7.72-7.72 1.47 1.35L5.41 20z\"/>\n",
              "  </svg>\n",
              "      </button>\n",
              "      \n",
              "  <style>\n",
              "    .colab-df-container {\n",
              "      display:flex;\n",
              "      flex-wrap:wrap;\n",
              "      gap: 12px;\n",
              "    }\n",
              "\n",
              "    .colab-df-convert {\n",
              "      background-color: #E8F0FE;\n",
              "      border: none;\n",
              "      border-radius: 50%;\n",
              "      cursor: pointer;\n",
              "      display: none;\n",
              "      fill: #1967D2;\n",
              "      height: 32px;\n",
              "      padding: 0 0 0 0;\n",
              "      width: 32px;\n",
              "    }\n",
              "\n",
              "    .colab-df-convert:hover {\n",
              "      background-color: #E2EBFA;\n",
              "      box-shadow: 0px 1px 2px rgba(60, 64, 67, 0.3), 0px 1px 3px 1px rgba(60, 64, 67, 0.15);\n",
              "      fill: #174EA6;\n",
              "    }\n",
              "\n",
              "    [theme=dark] .colab-df-convert {\n",
              "      background-color: #3B4455;\n",
              "      fill: #D2E3FC;\n",
              "    }\n",
              "\n",
              "    [theme=dark] .colab-df-convert:hover {\n",
              "      background-color: #434B5C;\n",
              "      box-shadow: 0px 1px 3px 1px rgba(0, 0, 0, 0.15);\n",
              "      filter: drop-shadow(0px 1px 2px rgba(0, 0, 0, 0.3));\n",
              "      fill: #FFFFFF;\n",
              "    }\n",
              "  </style>\n",
              "\n",
              "      <script>\n",
              "        const buttonEl =\n",
              "          document.querySelector('#df-cb26fd17-3cae-4e53-a353-6a7438b0c0ea button.colab-df-convert');\n",
              "        buttonEl.style.display =\n",
              "          google.colab.kernel.accessAllowed ? 'block' : 'none';\n",
              "\n",
              "        async function convertToInteractive(key) {\n",
              "          const element = document.querySelector('#df-cb26fd17-3cae-4e53-a353-6a7438b0c0ea');\n",
              "          const dataTable =\n",
              "            await google.colab.kernel.invokeFunction('convertToInteractive',\n",
              "                                                     [key], {});\n",
              "          if (!dataTable) return;\n",
              "\n",
              "          const docLinkHtml = 'Like what you see? Visit the ' +\n",
              "            '<a target=\"_blank\" href=https://colab.research.google.com/notebooks/data_table.ipynb>data table notebook</a>'\n",
              "            + ' to learn more about interactive tables.';\n",
              "          element.innerHTML = '';\n",
              "          dataTable['output_type'] = 'display_data';\n",
              "          await google.colab.output.renderOutput(dataTable, element);\n",
              "          const docLink = document.createElement('div');\n",
              "          docLink.innerHTML = docLinkHtml;\n",
              "          element.appendChild(docLink);\n",
              "        }\n",
              "      </script>\n",
              "    </div>\n",
              "  </div>\n",
              "  "
            ]
          },
          "metadata": {},
          "execution_count": 31
        }
      ]
    },
    {
      "cell_type": "markdown",
      "source": [
        "### Prediction 1"
      ],
      "metadata": {
        "id": "qAzUfW3yuPPR"
      }
    },
    {
      "cell_type": "code",
      "source": [
        "prediction = list(df_top3_s['prediction 1'])\n",
        "true = list(df_top3_s['polarity'])\n",
        "print(classification_report(true, prediction))\n",
        "print(balanced_accuracy_score(true, prediction))"
      ],
      "metadata": {
        "id": "yiF248exuPPS",
        "colab": {
          "base_uri": "https://localhost:8080/"
        },
        "outputId": "a0f68f80-d472-4c10-feb9-0962673955da"
      },
      "execution_count": 32,
      "outputs": [
        {
          "output_type": "stream",
          "name": "stdout",
          "text": [
            "              precision    recall  f1-score   support\n",
            "\n",
            "          -1       0.83      0.28      0.42       527\n",
            "           0       0.28      0.79      0.42       472\n",
            "           1       0.93      0.71      0.80      2112\n",
            "\n",
            "    accuracy                           0.65      3111\n",
            "   macro avg       0.68      0.59      0.55      3111\n",
            "weighted avg       0.81      0.65      0.68      3111\n",
            "\n",
            "0.594953039017519\n"
          ]
        }
      ]
    },
    {
      "cell_type": "markdown",
      "source": [
        "#### Anull OBL Aspects"
      ],
      "metadata": {
        "id": "f32tr-j62fbT"
      }
    },
    {
      "cell_type": "code",
      "source": [
        "prediction = annull_obl(prediction, obl_index)\n",
        "print(classification_report(true, prediction))\n",
        "print(balanced_accuracy_score(true, prediction))"
      ],
      "metadata": {
        "id": "RSIjVBqW2fbT",
        "colab": {
          "base_uri": "https://localhost:8080/"
        },
        "outputId": "ac5d4f63-35be-4a9c-ddd3-a45bd1b26880"
      },
      "execution_count": 33,
      "outputs": [
        {
          "output_type": "stream",
          "name": "stdout",
          "text": [
            "              precision    recall  f1-score   support\n",
            "\n",
            "          -1       0.85      0.25      0.39       527\n",
            "           0       0.27      0.84      0.41       472\n",
            "           1       0.94      0.66      0.78      2112\n",
            "\n",
            "    accuracy                           0.62      3111\n",
            "   macro avg       0.69      0.59      0.53      3111\n",
            "weighted avg       0.82      0.62      0.66      3111\n",
            "\n",
            "0.5860833108364707\n"
          ]
        }
      ]
    },
    {
      "cell_type": "markdown",
      "source": [
        "### Top 3 without treshold"
      ],
      "metadata": {
        "id": "4RnFp3TzuPPV"
      }
    },
    {
      "cell_type": "code",
      "source": [
        "prediction = get_top3(df_top3_s)\n",
        "true = list(df_top3_s['polarity'])\n",
        "print(classification_report(true, prediction))\n",
        "print(balanced_accuracy_score(true, prediction))"
      ],
      "metadata": {
        "id": "EpNVfpc3uPPV",
        "colab": {
          "base_uri": "https://localhost:8080/"
        },
        "outputId": "3767acf0-2c64-42bc-ab53-74d27008f40a"
      },
      "execution_count": 34,
      "outputs": [
        {
          "output_type": "stream",
          "name": "stdout",
          "text": [
            "              precision    recall  f1-score   support\n",
            "\n",
            "          -1       0.72      0.54      0.62       527\n",
            "           0       0.35      0.47      0.40       472\n",
            "           1       0.87      0.85      0.86      2112\n",
            "\n",
            "    accuracy                           0.74      3111\n",
            "   macro avg       0.65      0.62      0.63      3111\n",
            "weighted avg       0.76      0.74      0.75      3111\n",
            "\n",
            "0.623813676273233\n"
          ]
        }
      ]
    },
    {
      "cell_type": "markdown",
      "source": [
        "#### Annull OBL Aspects"
      ],
      "metadata": {
        "id": "ZDbvV1a52ofk"
      }
    },
    {
      "cell_type": "code",
      "source": [
        "prediction = annull_obl(prediction, obl_index)\n",
        "print(classification_report(true, prediction))\n",
        "print(balanced_accuracy_score(true, prediction))"
      ],
      "metadata": {
        "id": "hSPvpUxd2ofl",
        "colab": {
          "base_uri": "https://localhost:8080/"
        },
        "outputId": "b3f9b352-33da-4644-8344-8c497cedf714"
      },
      "execution_count": 35,
      "outputs": [
        {
          "output_type": "stream",
          "name": "stdout",
          "text": [
            "              precision    recall  f1-score   support\n",
            "\n",
            "          -1       0.74      0.49      0.59       527\n",
            "           0       0.33      0.61      0.43       472\n",
            "           1       0.88      0.79      0.84      2112\n",
            "\n",
            "    accuracy                           0.71      3111\n",
            "   macro avg       0.65      0.63      0.62      3111\n",
            "weighted avg       0.78      0.71      0.73      3111\n",
            "\n",
            "0.6286531666405151\n"
          ]
        }
      ]
    },
    {
      "cell_type": "markdown",
      "source": [
        "### Top 3 with treshold"
      ],
      "metadata": {
        "id": "oTkCKXKNfdaV"
      }
    },
    {
      "cell_type": "code",
      "source": [
        "prediction = get_top3_t(df_top3_s, 0.9)\n",
        "true = list(df_top3_s['polarity'])\n",
        "print(classification_report(true, prediction))\n",
        "print(balanced_accuracy_score(true, prediction))"
      ],
      "metadata": {
        "id": "PJc5Ozprfdam",
        "colab": {
          "base_uri": "https://localhost:8080/"
        },
        "outputId": "e278d706-92ff-4274-b68e-ab2d9e39a3d6"
      },
      "execution_count": 36,
      "outputs": [
        {
          "output_type": "stream",
          "name": "stdout",
          "text": [
            "              precision    recall  f1-score   support\n",
            "\n",
            "          -1       0.73      0.49      0.58       527\n",
            "           0       0.33      0.66      0.44       472\n",
            "           1       0.91      0.78      0.84      2112\n",
            "\n",
            "    accuracy                           0.71      3111\n",
            "   macro avg       0.66      0.64      0.62      3111\n",
            "weighted avg       0.79      0.71      0.74      3111\n",
            "\n",
            "0.6420563933403439\n"
          ]
        }
      ]
    },
    {
      "cell_type": "markdown",
      "source": [
        "#### Annull OBL Aspects"
      ],
      "metadata": {
        "id": "vuLwom4425Vy"
      }
    },
    {
      "cell_type": "code",
      "source": [
        "prediction = annull_obl(prediction, obl_index)\n",
        "print(classification_report(true, prediction))\n",
        "print(balanced_accuracy_score(true, prediction))"
      ],
      "metadata": {
        "id": "98h1ZDSm25Vz",
        "colab": {
          "base_uri": "https://localhost:8080/"
        },
        "outputId": "380d1ae1-c3d0-4552-d521-da61f85de6d2"
      },
      "execution_count": 37,
      "outputs": [
        {
          "output_type": "stream",
          "name": "stdout",
          "text": [
            "              precision    recall  f1-score   support\n",
            "\n",
            "          -1       0.75      0.43      0.55       527\n",
            "           0       0.31      0.74      0.44       472\n",
            "           1       0.91      0.73      0.81      2112\n",
            "\n",
            "    accuracy                           0.68      3111\n",
            "   macro avg       0.66      0.63      0.60      3111\n",
            "weighted avg       0.80      0.68      0.71      3111\n",
            "\n",
            "0.6347600750209457\n"
          ]
        }
      ]
    },
    {
      "cell_type": "markdown",
      "source": [
        "# Summary\n",
        "\n",
        "\n"
      ],
      "metadata": {
        "id": "Kabv3F6o0uZG"
      }
    },
    {
      "cell_type": "markdown",
      "source": [
        "1) By Aspect Sentence\n",
        "\n",
        "Model                  | Not Annull OBL Aspects | Annull OBL Aspects\n",
        ":----------------------|:-----------------------|:--------------------\n",
        "Prediction 1           | 0.5808073194070444     | 0.5890200549378258\n",
        "Top 3 without treshold | 0.5948047434756661     | 0.6098408251540589\n",
        "Top 3 with treshold    | 0.6010984286063282     | 0.6122221018193383\n"
      ],
      "metadata": {
        "id": "vcbdMkfgWpHS"
      }
    },
    {
      "cell_type": "markdown",
      "source": [
        "2) By Meaningful Surroundings\n",
        "\n",
        "Model                  | Not Annull OBL Aspects | Annull OBL Aspects\n",
        ":----------------------|:-----------------------|:--------------------\n",
        "Prediction 1           | 0.594953039017519      | 0.5860833108364707\n",
        "Top 3 without treshold | 0.623813676273233      | 0.6286531666405151\n",
        "Top 3 with treshold    | 0.6449574328090996     | 0.639306273709013\n"
      ],
      "metadata": {
        "id": "c6Lf8v8zWTwC"
      }
    }
  ],
  "metadata": {
    "colab": {
      "name": "task2_train.ipynb",
      "provenance": [],
      "collapsed_sections": []
    },
    "kernelspec": {
      "display_name": "Python 3",
      "name": "python3"
    },
    "language_info": {
      "name": "python"
    }
  },
  "nbformat": 4,
  "nbformat_minor": 0
}